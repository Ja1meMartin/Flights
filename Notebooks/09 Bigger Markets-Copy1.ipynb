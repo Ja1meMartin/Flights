{
 "cells": [
  {
   "cell_type": "markdown",
   "metadata": {},
   "source": [
    "- Get System Days\n",
    "- Get System Date\n",
    "- Get Airports(Large in Europe, Near Toulouse, Gibraltar)"
   ]
  },
  {
   "cell_type": "code",
   "execution_count": 1,
   "metadata": {
    "collapsed": false
   },
   "outputs": [
    {
     "ename": "ImportError",
     "evalue": "No module named 'flights'",
     "output_type": "error",
     "traceback": [
      "\u001b[0;31m---------------------------------------------------------------------------\u001b[0m",
      "\u001b[0;31mImportError\u001b[0m                               Traceback (most recent call last)",
      "\u001b[0;32m<ipython-input-1-225b589a47c7>\u001b[0m in \u001b[0;36m<module>\u001b[0;34m()\u001b[0m\n\u001b[1;32m      1\u001b[0m \u001b[1;32mfrom\u001b[0m \u001b[0mdatetime\u001b[0m \u001b[1;32mimport\u001b[0m \u001b[0mdate\u001b[0m\u001b[1;33m\u001b[0m\u001b[0m\n\u001b[1;32m      2\u001b[0m \u001b[1;33m\u001b[0m\u001b[0m\n\u001b[0;32m----> 3\u001b[0;31m \u001b[1;32mimport\u001b[0m \u001b[0mflights\u001b[0m\u001b[1;33m\u001b[0m\u001b[0m\n\u001b[0m\u001b[1;32m      4\u001b[0m \u001b[1;32mfrom\u001b[0m \u001b[0mflights\u001b[0m \u001b[1;32mimport\u001b[0m \u001b[0mget_system_days\u001b[0m\u001b[1;33m\u001b[0m\u001b[0m\n\u001b[1;32m      5\u001b[0m \u001b[1;33m\u001b[0m\u001b[0m\n",
      "\u001b[0;31mImportError\u001b[0m: No module named 'flights'"
     ]
    }
   ],
   "source": [
    "from datetime import date\n",
    "\n",
    "import flights\n",
    "from flights import get_system_days\n",
    "\n",
    "print(get_system_days(date(2017,2,1)))\n",
    "\n",
    "d = {}\n",
    "\n",
    "year = 2017\n",
    "months = list(range(1,13))\n",
    "days = list(range(1,32))\n",
    "\n",
    "from datetime import date\n",
    "\n",
    "for month in months:\n",
    "    Days = []\n",
    "    \n",
    "    for day in days:\n",
    "        try:\n",
    "            Date = date(year, month, day)\n",
    "            Days.append(get_system_days(Date))\n",
    "        except:\n",
    "            print (\"failed\", month, day)\n",
    "            \n",
    "    else:\n",
    "        partial = str(year) + \"-\" + str(month)\n",
    "        d[partial] = Days\n",
    "            \n",
    "            \n",
    "            \n",
    "print (d.keys())"
   ]
  },
  {
   "cell_type": "code",
   "execution_count": 12,
   "metadata": {
    "collapsed": false
   },
   "outputs": [
    {
     "name": "stdout",
     "output_type": "stream",
     "text": [
      "{'2017-4': [121, 122, 123, 124, 125, 126, 127, 128, 129, 130, 131, 132, 133, 134, 135, 136, 137, 138, 139, 140, 141, 142, 143, 144, 145, 146, 147, 148, 149, 150], '2017-1': [31, 32, 33, 34, 35, 36, 37, 38, 39, 40, 41, 42, 43, 44, 45, 46, 47, 48, 49, 50, 51, 52, 53, 54, 55, 56, 57, 58, 59, 60, 61], '2017-8': [32, 33, 34, 35, 36, 37, 38, 39, 40, 41, 42, 43, 44, 45, 46, 47, 48, 49, 50, 51, 52, 53, 54, 55, 56, 57, 58, 59, 60, 61, 62], '2017-11': [124, 125, 126, 127, 128, 129, 130, 131, 132, 133, 134, 135, 136, 137, 138, 139, 140, 141, 142, 143, 144, 145, 146, 147, 148, 149, 150, 151, 152, 153], '2017-10': [93, 94, 95, 96, 97, 98, 99, 100, 101, 102, 103, 104, 105, 106, 107, 108, 109, 110, 111, 112, 113, 114, 115, 116, 117, 118, 119, 120, 121, 122, 123], '2017-5': [151, 152, 153, 154, 155, 156, 157, 158, 159, 160, 161, 162, 163, 164, 165, 166, 167, 168, 169, 170, 171, 172, 173, 174, 175, 176, 177, 178, 179, 180, 181], '2017-2': [62, 63, 64, 65, 66, 67, 68, 69, 70, 71, 72, 73, 74, 75, 76, 77, 78, 79, 80, 81, 82, 83, 84, 85, 86, 87, 88, 89], '2017-12': [154, 155, 156, 157, 158, 159, 160, 161, 162, 163, 164, 165, 166, 167, 168, 169, 170, 171, 172, 173, 174, 175, 176, 177, 178, 179, 180, 181, 182, 183, 184], '2017-6': [182, 183, 184, 185, 186, 187, 188, 189, 190, 191, 192, 193, 194, 195, 196, 197, 198, 199, 200, 201, 202, 203, 204, 205, 206, 207, 208, 209, 210, 0], '2017-9': [63, 64, 65, 66, 67, 68, 69, 70, 71, 72, 73, 74, 75, 76, 77, 78, 79, 80, 81, 82, 83, 84, 85, 86, 87, 88, 89, 90, 91, 92], '2017-7': [1, 2, 3, 4, 5, 6, 7, 8, 9, 10, 11, 12, 13, 14, 15, 16, 17, 18, 19, 20, 21, 22, 23, 24, 25, 26, 27, 28, 29, 30, 31], '2017-3': [90, 91, 92, 93, 94, 95, 96, 97, 98, 99, 100, 101, 102, 103, 104, 105, 106, 107, 108, 109, 110, 111, 112, 113, 114, 115, 116, 117, 118, 119, 120]}\n"
     ]
    }
   ],
   "source": [
    "print(d)"
   ]
  },
  {
   "cell_type": "code",
   "execution_count": 1,
   "metadata": {
    "collapsed": false
   },
   "outputs": [
    {
     "name": "stdout",
     "output_type": "stream",
     "text": [
      "id 4154\n",
      "ident LFMK\n",
      "type medium_airport\n",
      "name Carcassonne Airport\n",
      "latitude_deg 43.215999603271484\n",
      "longitude_deg 2.3063199520111084\n",
      "elevation_ft 433\n",
      "continent EU\n",
      "iso_country FR\n",
      "iso_region FR-K\n",
      "municipality Carcassonne/Salvaza\n",
      "scheduled_service yes\n",
      "gps_code LFMK\n",
      "iata_code CCF\n",
      "local_code \n",
      "home_link \n",
      "wikipedia_link http://en.wikipedia.org/wiki/Carcassonne_Salvaza_Airport\n",
      "keywords \n",
      "['id', 'ident', 'type', 'name', 'latitude_deg', 'longitude_deg', 'elevation_ft', 'continent', 'iso_country', 'iso_region', 'municipality', 'scheduled_service', 'gps_code', 'iata_code', 'local_code', 'home_link', 'wikipedia_link', 'keywords']\n"
     ]
    }
   ],
   "source": [
    "import csv\n",
    "\n",
    "with open('airports.csv', 'r', encoding=\"utf8\") as filename:\n",
    "    reader = [line for line in csv.reader(filename)]\n",
    "    \n",
    "    \n",
    "    #for row in reader:\n",
    "        #if row[2] == 'large_airport':\n",
    "            #print row[3]\n",
    "            \n",
    "    for key, value in zip ( reader[0], reader [27863]):\n",
    "        print (key, value)\n",
    "        \n",
    "    print (reader[0])"
   ]
  },
  {
   "cell_type": "markdown",
   "metadata": {},
   "source": [
    "# Large Airports in Europe\n",
    "# FR-N and FR-B\n",
    "# [0,9,3,4,5,7,8,10]"
   ]
  },
  {
   "cell_type": "code",
   "execution_count": 2,
   "metadata": {
    "collapsed": false
   },
   "outputs": [],
   "source": [
    "lon,lat = 52.6541, -7.2448\n",
    "\n",
    "def dist(x,y):\n",
    "    lon,lat = 52.6541, -7.2448\n",
    "    return abs(lon -float(x)) + abs(lat - float(y)) < 1\n",
    "\n",
    "AIRPORTS = []\n",
    "\n",
    "for row in reader[1:]:\n",
    "    if row[7] == 'EU':\n",
    "        if row[2] == 'large_airport' and row[11] == 'yes':\n",
    "            AIRPORTS.append(row)\n",
    "        elif row[2] == 'medium_airport' and row[9] in ['FR-N', 'FR-B']and row[11] == 'yes':\n",
    "            AIRPORTS.append(row)\n",
    "        elif row[8] == 'GI'and row[11] == 'yes':\n",
    "            AIRPORTS.append(row)"
   ]
  },
  {
   "cell_type": "code",
   "execution_count": 23,
   "metadata": {
    "collapsed": false
   },
   "outputs": [
    {
     "name": "stdout",
     "output_type": "stream",
     "text": [
      "161\n"
     ]
    }
   ],
   "source": [
    "print(len(AIRPORTS))"
   ]
  },
  {
   "cell_type": "code",
   "execution_count": 3,
   "metadata": {
    "collapsed": false
   },
   "outputs": [
    {
     "name": "stdout",
     "output_type": "stream",
     "text": [
      "connected\n"
     ]
    }
   ],
   "source": [
    "from py2neo import authenticate, Graph, Relationship\n",
    "graph = Graph(\"http://localhost:7474/db/data/\")\n",
    "print \"connected\"\n",
    "from py2neo import Node, Relationship\n"
   ]
  },
  {
   "cell_type": "code",
   "execution_count": 4,
   "metadata": {
    "collapsed": false
   },
   "outputs": [],
   "source": [
    "NO_OF_DAYS = 15\n",
    "days = [ Node(\"Date\", date = i) for i in range (1,NO_OF_DAYS+1)]\n",
    "\n",
    "processed_days = []\n",
    "\n",
    "for day in days:\n",
    "    graph.create( day )\n",
    "    processed_days.append(day)"
   ]
  },
  {
   "cell_type": "code",
   "execution_count": 5,
   "metadata": {
    "collapsed": false
   },
   "outputs": [
    {
     "name": "stdout",
     "output_type": "stream",
     "text": [
      "123, IS-2, Keflavik International Airport, 63.985000610352, -22.605600357056, EU, IS, Reykjavík, large_airport\n",
      "4614, XK-01, Priština International Airport, 42.5728, 21.035801, EU, XK, Prishtina, large_airport\n",
      "2155, BE-BRU, Brussels Airport, 50.901401519800004, 4.48443984985, EU, BE, Brussels, large_airport\n",
      "2157, BE-WHT, Brussels South Charleroi Airport, 50.459201812699995, 4.45382022858, EU, BE, Brussels, large_airport\n",
      "2162, BE-WLG, Liège Airport, 50.63740158081055, 5.443220138549805, EU, BE, Liège, large_airport\n",
      "2209, DE-BR, Berlin-Schönefeld International Airport, 52.380001068115, 13.522500038147, EU, DE, Berlin, large_airport\n",
      "2210, DE-SN, Dresden Airport, 51.1328010559082, 13.767200469970703, EU, DE, Dresden, large_airport\n",
      "2212, DE-HE, Frankfurt am Main International Airport, 50.026402, 8.54313, EU, DE, Frankfurt-am-Main, large_airport\n",
      "2213, DE-NW, Münster Osnabrück Airport, 52.134601593, 7.68483018875, EU, DE, Münster, large_airport\n",
      "2214, DE-HH, Hamburg Airport, 53.630401611328, 9.9882297515869, EU, DE, Hamburg, large_airport\n",
      "2216, DE-NW, Cologne Bonn Airport, 50.8658981323, 7.1427397728, EU, DE, Cologne, large_airport\n",
      "2217, DE-NW, Düsseldorf International Airport, 51.28950119018555, 6.766779899597168, EU, DE, Düsseldorf, large_airport\n",
      "2218, DE-BY, Munich International Airport, 48.353801727295, 11.786100387573, EU, DE, Munich, large_airport\n",
      "2219, DE-BY, Nuremberg Airport, 49.4986991882, 11.066900253299998, EU, DE, Nuremberg, large_airport\n",
      "2220, DE-SN, Leipzig Halle Airport, 51.43239974975586, 12.241600036621094, EU, DE, Leipzig, large_airport\n",
      "2222, DE-BW, Stuttgart Airport, 48.689899444599995, 9.22196006775, EU, DE, Stuttgart, large_airport\n",
      "2223, DE-BE, Berlin-Tegel International Airport, 52.5597000122, 13.2876996994, EU, DE, Berlin, large_airport\n",
      "2224, DE-NI, Hannover Airport, 52.461101532, 9.685079574580001, EU, DE, Hannover, large_airport\n",
      "2225, DE-HB, Bremen Airport, 53.0475006104, 8.78666973114, EU, DE, Bremen, large_airport\n",
      "2247, DE-NW, Dortmund Airport, 51.51829910279999, 7.61223983765, EU, DE, Dortmund, large_airport\n",
      "2270, DE-BW, Karlsruhe Baden-Baden Airport, 48.7793998718, 8.08049964905, EU, DE, Baden-Baden, large_airport\n",
      "2301, EE-37, Lennart Meri Tallinn Airport, 59.41329956049999, 24.832799911499997, EU, EE, Tallinn, large_airport\n",
      "2307, FI-ES, Helsinki Vantaa Airport, 60.317199707031, 24.963300704956, EU, FI, Helsinki, large_airport\n",
      "2385, GB-NIR, Belfast International Airport, 54.6575012207, -6.2158298492399995, EU, GB, Belfast, large_airport\n",
      "2387, GB-NIR, George Best Belfast City Airport, 54.618099212646484, -5.872499942779541, EU, GB, Belfast, large_airport\n",
      "2389, GB-ENG, Birmingham International Airport, 52.453899383499994, -1.74802994728, EU, GB, Birmingham, large_airport\n",
      "2398, GB-ENG, Manchester Airport, 53.35369873046875, -2.2749500274658203, EU, GB, Manchester, large_airport\n",
      "2401, GB-ENG, Robin Hood Doncaster Sheffield Airport, 53.4805378105, -1.01065635681, EU, GB, Doncaster, large_airport\n",
      "2415, GB-WLS, Cardiff International Airport, 51.39670181274414, -3.343329906463623, EU, GB, Cardiff, large_airport\n",
      "2417, GB-ENG, Bristol International Airport, 51.3827018737793, -2.719089984893799, EU, GB, Bristol, large_airport\n",
      "2418, GB-ENG, Liverpool John Lennon Airport, 53.33359909057617, -2.849720001220703, EU, GB, Liverpool, large_airport\n",
      "2419, GB-ENG, London Luton Airport, 51.874698638916016, -0.36833301186561584, EU, GB, London, large_airport\n",
      "2421, GB-ENG, Bournemouth Airport, 50.779998779296875, -1.8424999713897705, EU, GB, Bournemouth, large_airport\n",
      "2422, GB-ENG, Southampton Airport, 50.95029830932617, -1.3567999601364136, EU, GB, Southampton, large_airport\n",
      "2429, GB-ENG, London Gatwick Airport, 51.148101806640625, -0.19027799367904663, EU, GB, London, large_airport\n",
      "2434, GB-ENG, London Heathrow Airport, 51.4706, -0.461941, EU, GB, London, large_airport\n",
      "2444, GB-ENG, Leeds Bradford Airport, 53.86589813232422, -1.6605700254440308, EU, GB, Leeds, large_airport\n",
      "2448, GB-ENG, Newcastle Airport, 55.037498474121094, -1.6916699409484863, EU, GB, Newcastle, large_airport\n",
      "2450, GB-ENG, East Midlands Airport, 52.8311004639, -1.32806003094, EU, GB, Nottingham, large_airport\n",
      "2459, GB-SCT, Aberdeen Dyce Airport, 57.201900482177734, -2.197779893875122, EU, GB, Aberdeen, large_airport\n",
      "2461, GB-SCT, Glasgow International Airport, 55.8718986511, -4.43306016922, EU, GB, Glasgow, large_airport\n",
      "2462, GB-SCT, Edinburgh Airport, 55.95000076293945, -3.372499942779541, EU, GB, Edinburgh, large_airport\n",
      "2475, GB-ENG, Norwich International Airport, 52.6758003235, 1.28278005123, EU, GB, Norwich, large_airport\n",
      "2476, GB-ENG, London Stansted Airport, 51.8849983215, 0.234999999404, EU, GB, London, large_airport\n",
      "2481, GB-ENG, Exeter International Airport, 50.73440170288086, -3.4138898849487305, EU, GB, Exeter, large_airport\n",
      "2493, GB-ENG, RAF Brize Norton, 51.75, -1.58362, EU, GB, Brize Norton, large_airport\n",
      "2513, NL-NH, Amsterdam Airport Schiphol, 52.3086013794, 4.763889789579999, EU, NL, Amsterdam, large_airport\n",
      "2515, NL-LI, Maastricht Aachen Airport, 50.9117012024, 5.77014017105, EU, NL, Maastricht, large_airport\n",
      "2518, NL-NB, Eindhoven Airport, 51.4500999451, 5.37452983856, EU, NL, Eindhoven, large_airport\n",
      "2530, IE-C, Cork Airport, 51.84130096435547, -8.491109848022461, EU, IE, Cork, large_airport\n",
      "2533, IE-D, Dublin Airport, 53.42129898071289, -6.2700700759887695, EU, IE, Dublin, large_airport\n",
      "2537, IE-CE, Shannon Airport, 52.701999664307, -8.9248199462891, EU, IE, Limerick, large_airport\n",
      "2541, DK-83, Billund Airport, 55.7402992249, 9.15178012848, EU, DK, Billund, large_airport\n",
      "2542, DK-84, Copenhagen Kastrup Airport, 55.617900848389, 12.656000137329, EU, DK, Copenhagen, large_airport\n",
      "2562, DK-81, Aalborg Airport, 57.0927589138, 9.84924316406, EU, DK, Aalborg, large_airport\n",
      "2563, LU-L, Luxembourg-Findel International Airport, 49.626598358154, 6.2115201950073, EU, LU, Luxembourg, large_airport\n",
      "2569, NO-18, Bodø Airport, 67.26920318603516, 14.365300178527832, EU, NO, Bodø, large_airport\n",
      "2570, NO-12, Bergen Airport Flesland, 60.29339981, 5.218140125, EU, NO, Bergen, large_airport\n",
      "2578, NO-02, Oslo Gardermoen Airport, 60.193901062012, 11.100399971008, EU, NO, Oslo, large_airport\n",
      "2599, NO-19, Tromsø Airport, 69.68329620361328, 18.918899536132812, EU, NO, Tromsø, large_airport\n",
      "2601, NO-17, Trondheim Airport Værnes, 63.4578018, 10.9239998, EU, NO, Trondheim, large_airport\n",
      "2602, NO-11, Stavanger Airport Sola, 58.876701354, 5.6377801895, EU, NO, Stavanger, large_airport\n",
      "2608, PL-PM, Gdańsk Lech Wałęsa Airport, 54.377601623535156, 18.46619987487793, EU, PL, Gdańsk, large_airport\n",
      "2609, PL-MA, John Paul II International Airport Kraków-Balice Airport, 50.077701568603516, 19.784799575805664, EU, PL, Kraków, large_airport\n",
      "2613, PL-SL, Katowice International Airport, 50.4743003845, 19.079999923699997, EU, PL, Katowice, large_airport\n",
      "2622, PL-MZ, Modlin Airport, 52.4510993958, 20.6518001556, EU, PL, Warsaw, large_airport\n",
      "2625, PL-WP, Poznań-Ławica Airport, 52.421001434299995, 16.8262996674, EU, PL, Poznań, large_airport\n",
      "2637, PL-MZ, Warsaw Chopin Airport, 52.1656990051, 20.967100143399996, EU, PL, Warsaw, large_airport\n",
      "2638, PL-DS, Copernicus Wrocław Airport, 51.1026992798, 16.885799408, EU, PL, Wrocław, large_airport\n",
      "2648, SE-Q, Gothenburg-Landvetter Airport, 57.662799835205, 12.279800415039, EU, SE, Gothenburg, large_airport\n",
      "2669, SE-M, Malmö Sturup Airport, 55.536305364, 13.376197814900001, EU, SE, Malmö, large_airport\n",
      "2697, SE-BD, Luleå Airport, 65.543800354004, 22.121999740601, EU, SE, Luleå, large_airport\n",
      "2701, SE-AB, Stockholm-Arlanda Airport, 59.651901245117, 17.918600082397, EU, SE, Stockholm, large_airport\n",
      "2758, LV-RIX, Riga International Airport, 56.92359924316406, 23.971099853515625, EU, LV, Riga, large_airport\n",
      "2766, LT-VL, Vilnius International Airport, 54.63410186767578, 25.28580093383789, EU, LT, Vilnius, large_airport\n",
      "3081, ES-CN, Gran Canaria Airport, 27.931900024414062, -15.38659954071045, EU, ES, Gran Canaria Island, large_airport\n",
      "3083, ES-CN, Tenerife South Airport, 28.044500351, -16.5725002289, EU, ES, Tenerife Island, large_airport\n",
      "3084, ES-CN, Tenerife Norte Airport, 28.4827003479, -16.3414993286, EU, ES, Tenerife Island, large_airport\n",
      "3972, AL-11, Tirana International Airport Mother Teresa, 41.4146995544, 19.7206001282, EU, AL, Tirana, large_airport\n",
      "3974, BG-02, Burgas Airport, 42.56959915161133, 27.515199661254883, EU, BG, Burgas, large_airport\n",
      "3977, BG-23, Sofia Airport, 42.696693420410156, 23.411436080932617, EU, BG, Sofia, large_airport\n",
      "3979, BG-03, Varna Airport, 43.232101, 27.8251, EU, BG, Varna, large_airport\n",
      "3982, GB-U-A, RAF Akrotiri, 34.590401, 32.9879, EU, GB, Akrotiri, large_airport\n",
      "3993, HR-21, Zagreb Airport, 45.7429008484, 16.0687999725, EU, HR, Zagreb, large_airport\n",
      "3997, ES-V, Alicante International Airport, 38.28219985961914, -0.5581560134887695, EU, ES, Alicante, large_airport\n",
      "4004, ES-CT, Barcelona International Airport, 41.297100067139, 2.0784599781036, EU, ES, Barcelona, large_airport\n",
      "4019, ES-M, Adolfo Suárez Madrid–Barajas Airport, 40.4936, -3.56676, EU, ES, Madrid, large_airport\n",
      "4020, ES-AN, Málaga Airport, 36.67490005493164, -4.499110221862793, EU, ES, Málaga, large_airport\n",
      "4035, ES-PM, Palma De Mallorca Airport, 39.551700592, 2.73881006241, EU, ES, Palma De Mallorca, large_airport\n",
      "4038, ES-GA, Santiago de Compostela Airport, 42.89630126953125, -8.415140151977539, EU, ES, Santiago de Compostela, large_airport\n",
      "4060, FR-B, Bordeaux-Mérignac Airport, 44.828300476100004, -0.715556025505, EU, FR, Bordeaux/Mérignac, large_airport\n",
      "4070, FR-N, Toulouse-Blagnac Airport, 43.629101, 1.36382, EU, FR, Toulouse/Blagnac, large_airport\n",
      "4155, FR-U, Marseille Provence Airport, 43.439271922, 5.22142410278, EU, FR, Marseille, large_airport\n",
      "4156, FR-U, Nice-Côte d'Azur Airport, 43.6584014893, 7.215869903560001, EU, FR, Nice, large_airport\n",
      "4185, FR-J, Charles de Gaulle International Airport, 49.0127983093, 2.54999995232, EU, FR, Paris, large_airport\n",
      "4189, FR-J, Paris-Orly Airport, 48.7252998352, 2.35944008827, EU, FR, Paris, large_airport\n",
      "4226, FR-A, EuroAirport Basel-Mulhouse-Freiburg Airport, 47.59, 7.5291667, EU, FR, Bâle/Mulhouse, large_airport\n",
      "4251, GR-A1, Eleftherios Venizelos International Airport, 37.9364013672, 23.9444999695, EU, GR, Athens, large_airport\n",
      "4258, GR-91, Heraklion International Nikos Kazantzakis Airport, 35.3396987915, 25.180299758900002, EU, GR, Heraklion, large_airport\n",
      "4293, GR-54, Thessaloniki Macedonia International Airport, 40.51969909667969, 22.97089958190918, EU, GR, Thessaloniki, large_airport\n",
      "4296, HU-PE, Budapest Ferenc Liszt International Airport, 47.436901092499994, 19.255599975599996, EU, HU, Budapest, large_airport\n",
      "4310, IT-75, Bari Karol Wojtyła Airport, 41.1389007568, 16.7605991364, EU, IT, Bari, large_airport\n",
      "4318, IT-82, Catania-Fontanarossa Airport, 37.466800689699994, 15.0663995743, EU, IT, Catania, large_airport\n",
      "4321, IT-82, Falcone–Borsellino Airport, 38.1759986877, 13.0909996033, EU, IT, Palermo, large_airport\n",
      "4332, IT-88, Cagliari Elmas Airport, 39.251499176, 9.05428028107, EU, IT, Cagliari, large_airport\n",
      "4340, IT-25, Malpensa International Airport, 45.6305999756, 8.728110313419998, EU, IT, Milan, large_airport\n",
      "4341, IT-25, Il Caravaggio International Airport, 45.6739006042, 9.70417022705, EU, IT, Bergamo, large_airport\n",
      "4342, IT-21, Turin Airport, 45.2008018494, 7.64963006973, EU, IT, Torino, large_airport\n",
      "4344, IT-42, Genoa Cristoforo Colombo Airport, 44.41329956049999, 8.83749961853, EU, IT, Genova, large_airport\n",
      "4345, IT-25, Linate Airport, 45.445098877, 9.27674007416, EU, IT, Milan, large_airport\n",
      "4350, IT-21, Cuneo International Airport, 44.547000885, 7.623219966890001, EU, IT, Cuneo, large_airport\n",
      "4354, IT-45, Bologna Guglielmo Marconi Airport, 44.5354, 11.2887, EU, IT, Bologna, large_airport\n",
      "4355, IT-34, Treviso-Sant'Angelo Airport, 45.648399353, 12.1943998337, EU, IT, Treviso, large_airport\n",
      "4366, IT-34, Verona Villafranca Airport, 45.395699, 10.8885, EU, IT, Verona, large_airport\n",
      "4368, IT-34, Venice Marco Polo Airport, 45.505299, 12.3519, EU, IT, Venice, large_airport\n",
      "4370, IT-62, Ciampino–G. B. Pastine International Airport, 41.7994003296, 12.5949001312, EU, IT, Roma, large_airport\n",
      "4372, IT-62, Leonardo da Vinci–Fiumicino Airport, 41.8045005798, 12.2508001328, EU, IT, Rome, large_airport\n",
      "4378, IT-72, Naples International Airport, 40.8860015869, 14.290800094600002, EU, IT, Nápoli, large_airport\n",
      "4379, IT-52, Pisa International Airport, 43.683898925799994, 10.3927001953, EU, IT, Pisa, large_airport\n",
      "4386, SI-061, Ljubljana Jože Pučnik Airport, 46.22370147705078, 14.457599639892578, EU, SI, Ljubljana, large_airport\n",
      "4408, CZ-PR, Václav Havel Airport Prague, 50.100799560547, 14.260000228882, EU, CZ, Prague, large_airport\n",
      "4427, MT-25, Malta International Airport, 35.857498, 14.4775, EU, MT, Luqa, large_airport\n",
      "4434, AT-9, Vienna International Airport, 48.110298156738, 16.569700241089, EU, AT, Vienna, large_airport\n",
      "4448, PT-08, Faro Airport, 37.0144004822, -7.96590995789, EU, PT, Faro, large_airport\n",
      "4451, PT-20, Lajes Field, 38.761798858599995, -27.090799331699998, EU, PT, Lajes, large_airport\n",
      "4456, PT-20, João Paulo II Airport, 37.7411994934, -25.6979007721, EU, PT, Ponta Delgada, large_airport\n",
      "4459, PT-13, Francisco de Sá Carneiro Airport, 41.2481002808, -8.68138980865, EU, PT, Porto, large_airport\n",
      "4461, PT-11, Lisbon Portela Airport, 38.7812995911, -9.13591957092, EU, PT, Lisbon, large_airport\n",
      "4469, BA-BIH, Sarajevo International Airport, 43.82460021972656, 18.331499099731445, EU, BA, Sarajevo, large_airport\n",
      "4482, RO-B, Henri Coandă International Airport, 44.572200775146, 26.102199554443, EU, RO, Bucharest, large_airport\n",
      "4490, CH-GE, Geneva Cointrin International Airport, 46.23809814453125, 6.108950138092041, EU, CH, Geneva, large_airport\n",
      "4505, CH-ZH, Zürich Airport, 47.464698791504, 8.5491695404053, EU, CH, Zurich, large_airport\n",
      "4528, TR-34, Atatürk International Airport, 40.9768981934, 28.814599990799998, EU, TR, Istanbul, large_airport\n",
      "4610, RS-00, Belgrade Nikola Tesla Airport, 44.8184013367, 20.3090991974, EU, RS, Belgrade, large_airport\n",
      "4613, ME-16, Podgorica Airport, 42.35940170288086, 19.25189971923828, EU, ME, Podgorica, large_airport\n",
      "4617, SK-BL, M. R. Štefánik Airport, 48.17020034790039, 17.21269989013672, EU, SK, Bratislava, large_airport\n",
      "42924, RU-CE, Grozny North Airport, 43.388302, 45.698601, EU, RU, Grozny, large_airport\n",
      "6467, UA-32, Boryspil International Airport, 50.345001220703125, 30.894699096679688, EU, UA, Kiev, large_airport\n",
      "6468, UA-14, Donetsk International Airport, 48.07360076904297, 37.73970031738281, EU, UA, Donetsk, large_airport\n",
      "6474, UA-43, Simferopol International Airport, 45.05220031738281, 33.975101470947266, EU, UA, Simferopol, large_airport\n",
      "6476, UA-63, Kharkiv International Airport, 49.924800872802734, 36.290000915527344, EU, UA, Kharkiv, large_airport\n",
      "6487, UA-51, Odessa International Airport, 46.42679977416992, 30.67650032043457, EU, UA, Odessa, large_airport\n",
      "6489, RU-SPE, Pulkovo Airport, 59.80030059814453, 30.262500762939453, EU, RU, St. Petersburg, large_airport\n",
      "6501, BY-MI, Minsk National Airport, 53.882499694824, 28.030700683594, EU, BY, Minsk, large_airport\n",
      "6518, RU-ROS, Rostov-on-Don Airport, 47.2582015991, 39.8180999756, EU, RU, Rostov-on-Don, large_airport\n",
      "6519, RU-KDA, Sochi International Airport, 43.449901580811, 39.956600189209, EU, RU, Sochi, large_airport\n",
      "42967, RU-MOS, Zhukovsky International Airport, 55.553299, 38.150002, EU, RU, Zhukovsky, large_airport\n",
      "26394, RU-MOS, Domodedovo International Airport, 55.40879821777344, 37.90629959106445, EU, RU, Moscow, large_airport\n",
      "26396, RU-MOS, Sheremetyevo International Airport, 55.972599029541, 37.414600372314, EU, RU, Moscow, large_airport\n",
      "26401, RU-MOS, Vnukovo International Airport, 55.5914993286, 37.2615013123, EU, RU, Moscow, large_airport\n"
     ]
    },
    {
     "name": "stderr",
     "output_type": "stream",
     "text": [
      "Exception KeyError: (u'http://localhost:7474/db/data/relationship/36377',) in <function remove at 0x0000000008A5C828> ignored\n",
      "Exception KeyError: (u'http://localhost:7474/db/data/relationship/36378',) in <function remove at 0x0000000008A5C828> ignored\n",
      "Exception KeyError: (u'http://localhost:7474/db/data/relationship/36379',) in <function remove at 0x0000000008A5C828> ignored\n"
     ]
    },
    {
     "name": "stdout",
     "output_type": "stream",
     "text": [
      "26404, RU-TA, Kazan International Airport, 55.606201171875, 49.278701782227, EU, RU, Kazan, large_airport\n",
      "26411, RU-BA, Ufa International Airport, 54.557498931885, 55.874401092529, EU, RU, Ufa, large_airport\n",
      "26412, RU-SAM, Kurumoch International Airport, 53.504901885986, 50.16429901123, EU, RU, Samara, large_airport\n"
     ]
    }
   ],
   "source": [
    "#%%time\n",
    "regions, countries, continents, cities = {}, {}, {}, {}\n",
    "\n",
    "tx = graph.begin()\n",
    "\n",
    "current_id = 1000\n",
    "\n",
    "for index,row in enumerate(reader[1:]):\n",
    "    #if index % 2000 == 0:\n",
    "       # print row[3], row[8]\n",
    "        \n",
    "    if row[7] == 'EU' and row[2] == 'large_airport' and row[11] == 'yes':\n",
    "        print ( \", \".join ( row[x] for x in [0,9,3,4,5,7,8,10,2]) )\n",
    "        region_name = row[9]\n",
    "        region = regions.get(region_name, None)\n",
    "        if not region:\n",
    "            region = Node(\"Region\", region = region_name)\n",
    "            regions[region_name] = region\n",
    "            tx.create(region)\n",
    "        \n",
    "        country_name = row[8]\n",
    "        country = countries.get(country_name, None)\n",
    "        if not country:\n",
    "            country = Node(\"Country\", country = country_name)\n",
    "            countries[country_name] = country\n",
    "            tx.create(country)\n",
    "            \n",
    "        continent_name = row[7]\n",
    "        continent = continents.get(continent_name, None)\n",
    "        if not continent:\n",
    "            continent = Node(\"Continent\", continent = continent_name)\n",
    "            continents[continent_name] = continent\n",
    "            tx.create(continent)\n",
    "            \n",
    "        city_name = row[10].split(\"/\")[0]\n",
    "        city = cities.get(city_name, None)\n",
    "        if not city:\n",
    "            city = Node(\"City\", city = city_name)\n",
    "            cities[city_name] = city\n",
    "            tx.create(city)\n",
    "        \n",
    "        airport_name = row[3]\n",
    "        airport = Node(\"Airport\", airport=airport_name)\n",
    "        \n",
    "        #ADD PROPERTIES\n",
    "        airport['id'] = current_id\n",
    "        airport['continent'] = continent_name\n",
    "        airport['country'] = country_name\n",
    "        airport['region'] = region_name\n",
    "        airport['city'] = city_name\n",
    "        \n",
    "        tx.create(airport)\n",
    "        tx.create(Relationship(airport, \"IN_REGION\", region))\n",
    "        tx.create(Relationship(airport, \"IN_COUNTRY\", country))\n",
    "        tx.create(Relationship(airport, \"IN_CONTINENT\", continent))\n",
    "        tx.create(Relationship(airport, \"IN_CITY\", city))\n",
    "        \n",
    "        airport_days = []\n",
    "        \n",
    "        for day in days:\n",
    "            number = day['date']\n",
    "            airport_day = Node(\"AirportDay\", airport = airport_name, day = number)\n",
    "            \n",
    "            # Connect to other dates for when not flying from same Airport\n",
    "            for second_day in days[number:]:\n",
    "                \n",
    "                gap = second_day['date'] - number\n",
    "                if gap < 0:\n",
    "                    print number, second_day['date']\n",
    "                    raise ValueError(\"Going Wrong Way!\")\n",
    "                    \n",
    "                next_market = Relationship (airport_day, \"NEXT_MARKET\", second_day )\n",
    "                next_market['days_between'] = gap\n",
    "                tx.create(next_market )\n",
    "                \n",
    "            tx.create(airport_day)\n",
    "            airport_rel = Relationship( airport_day, \"HAS_AIRPORT\", airport)\n",
    "            day_rel = Relationship( airport_day, \"HAS_DAY\", day)\n",
    "            tx.create(airport_rel)\n",
    "            tx.create(day_rel)\n",
    "            \n",
    "            airport_days.append(airport_day)\n",
    "            \n",
    "        from itertools import combinations\n",
    "        \n",
    "        # moving in time\n",
    "        for early, late in combinations(airport_days,2):\n",
    "            days_between =   late ['day'] - early['day']\n",
    "            if days_between < 0:\n",
    "                early, late = late, early\n",
    "                days_between = -days_between\n",
    "                \n",
    "            next_market = Relationship(early, \"NEXT_MARKET\", late)\n",
    "            next_market['days_between'] = days_between\n",
    "            tx.create(next_market)\n",
    "            \n",
    "        tx.process()\n",
    "        \n",
    "        current_id += 10\n",
    "        \n",
    "tx.commit()"
   ]
  },
  {
   "cell_type": "code",
   "execution_count": 6,
   "metadata": {
    "collapsed": false
   },
   "outputs": [
    {
     "name": "stdout",
     "output_type": "stream",
     "text": [
      "Wall time: 385 ms\n"
     ]
    }
   ],
   "source": [
    "%%time\n",
    "# cre\n",
    "t = graph.run(\"MATCH (d:Date {date:1}) <- [:HAS_DAY] - (ad:AirportDay) RETURN ad\")\n",
    "t = list(t)"
   ]
  },
  {
   "cell_type": "code",
   "execution_count": 7,
   "metadata": {
    "collapsed": false
   },
   "outputs": [
    {
     "name": "stdout",
     "output_type": "stream",
     "text": [
      "1472686490.93 OUTER 1\n",
      "NUMBER OF AD 153\n",
      "\n",
      "===============\n",
      "1472686708.78 OUTER 1\n",
      "1472686709.48 OUTER 2\n",
      "NUMBER OF AD 153\n",
      "\n",
      "===============\n",
      "1472686926.39 OUTER 2\n",
      "1472686927.35 OUTER 3\n",
      "NUMBER OF AD 153\n",
      "\n",
      "===============\n",
      "1472687145.26 OUTER 3\n",
      "1472687146.16 OUTER 4\n",
      "NUMBER OF AD 153\n",
      "\n",
      "===============\n",
      "1472687351.83 OUTER 4\n",
      "1472687352.74 OUTER 5\n",
      "NUMBER OF AD 153\n",
      "\n",
      "===============\n",
      "1472687558.81 OUTER 5\n",
      "1472687560.01 OUTER 6\n",
      "NUMBER OF AD 153\n",
      "\n",
      "===============\n",
      "1472687762.5 OUTER 6\n",
      "1472687763.62 OUTER 7\n",
      "NUMBER OF AD 153\n",
      "\n",
      "===============\n",
      "1472687965.2 OUTER 7\n",
      "1472687966.08 OUTER 8\n",
      "NUMBER OF AD 153\n",
      "\n",
      "===============\n",
      "1472688184.06 OUTER 8\n",
      "1472688185.02 OUTER 9\n",
      "NUMBER OF AD 153\n",
      "\n",
      "===============\n",
      "1472688397.58 OUTER 9\n",
      "1472688399.76 OUTER 10\n",
      "NUMBER OF AD 153\n",
      "\n",
      "===============\n",
      "1472688613.98 OUTER 10\n",
      "1472688615.69 OUTER 11\n",
      "NUMBER OF AD 153\n",
      "\n",
      "===============\n",
      "1472688858.09 OUTER 11\n",
      "1472688860.73 OUTER 12\n",
      "NUMBER OF AD 153\n",
      "\n",
      "===============\n",
      "1472689111.37 OUTER 12\n",
      "1472689112.55 OUTER 13\n",
      "NUMBER OF AD 153\n",
      "\n",
      "===============\n",
      "1472689363.48 OUTER 13\n",
      "1472689365.7 OUTER 14\n",
      "NUMBER OF AD 153\n",
      "\n",
      "===============\n",
      "1472689618.66 OUTER 14\n",
      "1472689619.79 OUTER 15\n",
      "NUMBER OF AD 153\n",
      "\n",
      "===============\n",
      "1472689846.86 OUTER 15\n"
     ]
    }
   ],
   "source": [
    "import time\n",
    "\n",
    "\n",
    "\n",
    "\n",
    "for number in range(1, NO_OF_DAYS+1):\n",
    "    \n",
    "    print time.time(), \"OUTER\", number\n",
    "    \n",
    "    tx = graph.begin()\n",
    "    \n",
    "    # Get the AirportDays for this date\n",
    "    query = \"MATCH (d:Date {{date:{date}}}) <- [:HAS_DAY] - (ad:AirportDay) RETURN ad\".format(date=number)\n",
    "    ad_on_given_day = [item['ad'] for item in graph.run(query)]\n",
    "    \n",
    "    print \"NUMBER OF AD\", len(ad_on_given_day)\n",
    "    combs = combinations(ad_on_given_day, 2)\n",
    "    \n",
    "    # create flight\n",
    "    # cost\n",
    "    # home airport\n",
    "    \n",
    "    for origin, destination in combs:\n",
    "        import random\n",
    "        cost = random.randint(20,500)\n",
    "        o,d = origin,destination\n",
    "        return_cost = max(cost + random.randint(-50,50), random.randint(20,100))\n",
    "        flight_out = Relationship(o,\"FLIGHT\", d, cost=cost, market=o['airport'], day=o['day'], destination=d['airport'])\n",
    "        flight_in = Relationship(d, \"FLIGHT\", o, cost=return_cost, market=d['airport'], day=d['day'], destination=o['airport'])\n",
    "        tx.create(flight_out)\n",
    "        tx.create(flight_in)\n",
    "        tx.process()\n",
    "        \n",
    "    print \"\\n===============\\n\", time.time(), \"OUTER\", number\n",
    "    \n",
    "    \n",
    "\n",
    "    tx.commit()\n",
    "\n",
    "\n",
    "# "
   ]
  },
  {
   "cell_type": "code",
   "execution_count": 8,
   "metadata": {
    "collapsed": false
   },
   "outputs": [
    {
     "name": "stdout",
     "output_type": "stream",
     "text": [
      "QUERY TIME\n",
      "(u'ad1': (be56acc:AirportDay {airport:\"Cork Airport\",day:7}))\n",
      "(u'ad1': (aee323f:AirportDay {airport:\"Cork Airport\",day:8}))\n",
      "(u'ad1': (d7d4732:AirportDay {airport:\"Cork Airport\",day:6}))\n",
      "(u'ad1': (c5b2b89:AirportDay {airport:\"Cork Airport\",day:12}))\n",
      "(u'ad1': (f6403e1:AirportDay {airport:\"Cork Airport\",day:13}))\n",
      "(u'ad1': (ed4b00b:AirportDay {airport:\"Cork Airport\",day:14}))\n",
      "(u'ad1': (c235d73:AirportDay {airport:\"Cork Airport\",day:15}))\n",
      "(u'ad1': (b6453c1:AirportDay {airport:\"Cork Airport\",day:9}))\n",
      "(u'ad1': (b1b13da:AirportDay {airport:\"Cork Airport\",day:10}))\n",
      "(u'ad1': (b460937:AirportDay {airport:\"Cork Airport\",day:11}))\n",
      "(u'ad1': (ddd543d:AirportDay {airport:\"Cork Airport\",day:1}))\n",
      "(u'ad1': (e5dc63f:AirportDay {airport:\"Cork Airport\",day:2}))\n",
      "(u'ad1': (b74a1af:AirportDay {airport:\"Cork Airport\",day:3}))\n",
      "(u'ad1': (a2e77ce:AirportDay {airport:\"Cork Airport\",day:5}))\n",
      "(u'ad1': (b43558b:AirportDay {airport:\"Cork Airport\",day:4}))\n",
      "(u'ad1': (d66c3ea:AirportDay {airport:\"Dublin Airport\",day:10}))\n",
      "(u'ad1': (d53d808:AirportDay {airport:\"Dublin Airport\",day:9}))\n",
      "(u'ad1': (b64d764:AirportDay {airport:\"Dublin Airport\",day:8}))\n",
      "(u'ad1': (d492353:AirportDay {airport:\"Dublin Airport\",day:7}))\n",
      "(u'ad1': (dbeadca:AirportDay {airport:\"Dublin Airport\",day:15}))\n",
      "(u'ad1': (a741899:AirportDay {airport:\"Dublin Airport\",day:14}))\n",
      "(u'ad1': (bb15caf:AirportDay {airport:\"Dublin Airport\",day:13}))\n",
      "(u'ad1': (d44d916:AirportDay {airport:\"Dublin Airport\",day:12}))\n",
      "(u'ad1': (c5f472d:AirportDay {airport:\"Dublin Airport\",day:11}))\n",
      "(u'ad1': (e813db1:AirportDay {airport:\"Dublin Airport\",day:3}))\n",
      "(u'ad1': (e4d674e:AirportDay {airport:\"Dublin Airport\",day:2}))\n",
      "(u'ad1': (a136f77:AirportDay {airport:\"Dublin Airport\",day:6}))\n",
      "(u'ad1': (a5fe7b4:AirportDay {airport:\"Dublin Airport\",day:5}))\n",
      "(u'ad1': (c4fd61e:AirportDay {airport:\"Dublin Airport\",day:4}))\n",
      "(u'ad1': (d9bd379:AirportDay {airport:\"Dublin Airport\",day:1}))\n",
      "(u'ad1': (b10a27a:AirportDay {airport:\"Shannon Airport\",day:2}))\n",
      "(u'ad1': (a02dafd:AirportDay {airport:\"Shannon Airport\",day:1}))\n",
      "(u'ad1': (d8003c0:AirportDay {airport:\"Shannon Airport\",day:4}))\n",
      "(u'ad1': (e0fb20b:AirportDay {airport:\"Shannon Airport\",day:3}))\n",
      "(u'ad1': (af72907:AirportDay {airport:\"Shannon Airport\",day:7}))\n",
      "(u'ad1': (a6a6732:AirportDay {airport:\"Shannon Airport\",day:5}))\n",
      "(u'ad1': (cdc2b77:AirportDay {airport:\"Shannon Airport\",day:6}))\n",
      "(u'ad1': (e09c741:AirportDay {airport:\"Shannon Airport\",day:9}))\n",
      "(u'ad1': (a6d0dbc:AirportDay {airport:\"Shannon Airport\",day:8}))\n",
      "(u'ad1': (ec45b40:AirportDay {airport:\"Shannon Airport\",day:12}))\n",
      "(u'ad1': (f94061a:AirportDay {airport:\"Shannon Airport\",day:11}))\n",
      "(u'ad1': (e71275a:AirportDay {airport:\"Shannon Airport\",day:10}))\n",
      "(u'ad1': (d9db748:AirportDay {airport:\"Shannon Airport\",day:15}))\n",
      "(u'ad1': (b346eb1:AirportDay {airport:\"Shannon Airport\",day:13}))\n",
      "(u'ad1': (f650e02:AirportDay {airport:\"Shannon Airport\",day:14}))\n"
     ]
    }
   ],
   "source": [
    "print \"QUERY TIME\"\n",
    "\n",
    "query = \"\"\"\n",
    "MATCH (airport1: Airport {country : 'IE'} ) <- [:HAS_AIRPORT] - (ad1:AirportDay)\n",
    "RETURN ad1\n",
    "\"\"\"\n",
    "for it in graph.run(query):\n",
    "    print it"
   ]
  },
  {
   "cell_type": "code",
   "execution_count": 9,
   "metadata": {
    "collapsed": false
   },
   "outputs": [
    {
     "name": "stdout",
     "output_type": "stream",
     "text": [
      "6840\n",
      "Wall time: 25.7 s\n"
     ]
    }
   ],
   "source": [
    "%%time\n",
    "query = \"\"\"\n",
    "MATCH (airport1: Airport {country : 'IE'} ) <- [:HAS_AIRPORT] - (ad1:AirportDay),\n",
    "(airport2: Airport {continent : 'EU'} ) <- [:HAS_AIRPORT] - (ad2:AirportDay) <- [f1:FLIGHT] - (ad1)\n",
    "RETURN ad1, ad2\n",
    "\"\"\"\n",
    "\n",
    "t = list(graph.run(query))\n",
    "print len(t)"
   ]
  },
  {
   "cell_type": "code",
   "execution_count": 10,
   "metadata": {
    "collapsed": false
   },
   "outputs": [
    {
     "name": "stdout",
     "output_type": "stream",
     "text": [
      "6840\n",
      "Wall time: 25.5 s\n"
     ]
    }
   ],
   "source": [
    "%%time\n",
    "query = \"\"\"\n",
    "MATCH (airport1: Airport {country : 'IE'} ) <- [:HAS_AIRPORT] - (ad1:AirportDay),\n",
    "(ad1) - [:FLIGHT] - > (ad2:AirportDay) - [:HAS_AIRPORT] -> (airport2: Airport {continent : 'EU'} )\n",
    "RETURN ad1, ad2 \n",
    "\"\"\"\n",
    "\n",
    "t = list(graph.run(query))\n",
    "print len(t)"
   ]
  },
  {
   "cell_type": "code",
   "execution_count": 11,
   "metadata": {
    "collapsed": false
   },
   "outputs": [
    {
     "name": "stdout",
     "output_type": "stream",
     "text": [
      "6840\n",
      "Wall time: 25 s\n"
     ]
    }
   ],
   "source": [
    "%%time\n",
    "query = \"\"\"\n",
    "MATCH (airport1: Airport {country : 'IE'} ) <- [:HAS_AIRPORT] - (ad1:AirportDay)- \n",
    "[f:FLIGHT] - > (ad2:AirportDay) - [:HAS_AIRPORT] -> (airport2: Airport {continent : 'EU'} )\n",
    "RETURN ad1, ad2 \n",
    "\"\"\"\n",
    "\n",
    "t = list(graph.run(query))\n",
    "print len(t)"
   ]
  },
  {
   "cell_type": "code",
   "execution_count": 12,
   "metadata": {
    "collapsed": false
   },
   "outputs": [
    {
     "name": "stdout",
     "output_type": "stream",
     "text": [
      "6840\n",
      "(u'f': (dcd4444)-[:FLIGHT {cost:82,day:7,destination:\"Brussels Airport\",market:\"Shannon Airport\"}]->(dea2d99))\n",
      "(u'f': (dbeadca)-[:FLIGHT {cost:53,day:15,destination:\"Dresden Airport\",market:\"Dublin Airport\"}]->(fa2b0b9))\n",
      "(u'f': (f650e02)-[:FLIGHT {cost:295,day:14,destination:\"Düsseldorf International Airport\",market:\"Shannon Airport\"}]->(e6f8e49))\n",
      "(u'f': (cad7ecf)-[:FLIGHT {cost:437,day:8,destination:\"Stuttgart Airport\",market:\"Shannon Airport\"}]->(e050320))\n",
      "(u'f': (b1b13da)-[:FLIGHT {cost:77,day:10,destination:\"Karlsruhe Baden-Baden Airport\",market:\"Cork Airport\"}]->(fc5ded1))\n",
      "(u'f': (c4fd61e)-[:FLIGHT {cost:472,day:4,destination:\"George Best Belfast City Airport\",market:\"Dublin Airport\"}]->(cbaae5b))\n",
      "(u'f': (dcd4444)-[:FLIGHT {cost:111,day:7,destination:\"Cardiff International Airport\",market:\"Shannon Airport\"}]->(dbda3ab))\n",
      "(u'f': (d9db748)-[:FLIGHT {cost:218,day:15,destination:\"Southampton Airport\",market:\"Shannon Airport\"}]->(a7f0000))\n",
      "(u'f': (bb15caf)-[:FLIGHT {cost:203,day:13,destination:\"Newcastle Airport\",market:\"Dublin Airport\"}]->(eedd9ee))\n",
      "(u'f': (b64d764)-[:FLIGHT {cost:309,day:8,destination:\"Norwich International Airport\",market:\"Dublin Airport\"}]->(fbea81b))\n",
      "(u'f': (cad7ecf)-[:FLIGHT {cost:442,day:8,destination:\"Amsterdam Airport Schiphol\",market:\"Shannon Airport\"}]->(c149f91))\n",
      "(u'f': (b10a27a)-[:FLIGHT {cost:386,day:2,destination:\"Billund Airport\",market:\"Shannon Airport\"}]->(ee61beb))\n",
      "(u'f': (b74a1af)-[:FLIGHT {cost:368,day:3,destination:\"Bodø Airport\",market:\"Cork Airport\"}]->(b5fe919))\n",
      "(u'f': (ddd543d)-[:FLIGHT {cost:64,day:1,destination:\"Stavanger Airport Sola\",market:\"Cork Airport\"}]->(bb6894d))\n",
      "(u'f': (bb15caf)-[:FLIGHT {cost:271,day:13,destination:\"Modlin Airport\",market:\"Dublin Airport\"}]->(e0ea1b9))\n",
      "(u'f': (b74a1af)-[:FLIGHT {cost:219,day:3,destination:\"Gothenburg-Landvetter Airport\",market:\"Cork Airport\"}]->(adfcd2c))\n",
      "(u'f': (ddd543d)-[:FLIGHT {cost:57,day:1,destination:\"Vilnius International Airport\",market:\"Cork Airport\"}]->(f7b3d4e))\n",
      "(u'f': (be56acc)-[:FLIGHT {cost:384,day:7,destination:\"Tirana International Airport Mother Teresa\",market:\"Cork Airport\"}]->(aaf872a))\n",
      "(u'f': (c14107c)-[:FLIGHT {cost:74,day:9,destination:\"Zagreb Airport\",market:\"Shannon Airport\"}]->(cde95c0))\n",
      "(u'f': (c4fd61e)-[:FLIGHT {cost:350,day:4,destination:\"Málaga Airport\",market:\"Dublin Airport\"}]->(fe81c18))\n",
      "(u'f': (a5d5b6d)-[:FLIGHT {cost:394,day:6,destination:\"Marseille Provence Airport\",market:\"Shannon Airport\"}]->(fd09259))\n",
      "(u'f': (e5dc63f)-[:FLIGHT {cost:212,day:2,destination:\"EuroAirport Basel-Mulhouse-Freiburg Airport\",market:\"Cork Airport\"}]->(e2a275e))\n",
      "(u'f': (b74a1af)-[:FLIGHT {cost:458,day:3,destination:\"Bari Karol Wojtyła Airport\",market:\"Cork Airport\"}]->(b0dabd4))\n",
      "(u'f': (b10a27a)-[:FLIGHT {cost:269,day:2,destination:\"Malpensa International Airport\",market:\"Shannon Airport\"}]->(dd00676))\n",
      "(u'f': (c14107c)-[:FLIGHT {cost:366,day:9,destination:\"Linate Airport\",market:\"Shannon Airport\"}]->(d690a83))\n",
      "(u'f': (b6453c1)-[:FLIGHT {cost:267,day:9,destination:\"Venice Marco Polo Airport\",market:\"Cork Airport\"}]->(b0c9a64))\n",
      "(u'f': (ec45b40)-[:FLIGHT {cost:260,day:12,destination:\"Pisa International Airport\",market:\"Shannon Airport\"}]->(a09f4fb))\n",
      "(u'f': (c4fd61e)-[:FLIGHT {cost:98,day:4,destination:\"Faro Airport\",market:\"Dublin Airport\"}]->(b744533))\n",
      "(u'f': (a2e77ce)-[:FLIGHT {cost:317,day:5,destination:\"Lisbon Portela Airport\",market:\"Cork Airport\"}]->(afb1e0e))\n",
      "(u'f': (e5dc63f)-[:FLIGHT {cost:405,day:2,destination:\"Atatürk International Airport\",market:\"Cork Airport\"}]->(fd2f1bc))\n",
      "(u'f': (a5fe7b4)-[:FLIGHT {cost:496,day:5,destination:\"Grozny North Airport\",market:\"Dublin Airport\"}]->(afdf146))\n",
      "(u'f': (b74a1af)-[:FLIGHT {cost:91,day:3,destination:\"Odessa International Airport\",market:\"Cork Airport\"}]->(b8588c2))\n",
      "(u'f': (aee323f)-[:FLIGHT {cost:475,day:8,destination:\"Sochi International Airport\",market:\"Cork Airport\"}]->(a40fd47))\n",
      "(u'f': (b346eb1)-[:FLIGHT {cost:151,day:13,destination:\"Vnukovo International Airport\",market:\"Shannon Airport\"}]->(c27bfcf))\n",
      "Wall time: 33.1 s\n"
     ]
    }
   ],
   "source": [
    "%%time\n",
    "query = \"\"\"\n",
    "MATCH (airport1: Airport {country : 'IE'} ) <- [:HAS_AIRPORT] - (ad1:AirportDay),\n",
    "(airport2: Airport {continent : 'EU'} ) <- [:HAS_AIRPORT] - (ad2:AirportDay) <- [f:FLIGHT] - (ad1)\n",
    "RETURN f\n",
    "\"\"\"\n",
    "\n",
    "t = list(graph.run(query))\n",
    "print len(t)\n",
    "\n",
    "for i,a in enumerate(t):\n",
    "    if i % 200 == 100:\n",
    "        print a"
   ]
  },
  {
   "cell_type": "code",
   "execution_count": 13,
   "metadata": {
    "collapsed": false
   },
   "outputs": [
    {
     "name": "stdout",
     "output_type": "stream",
     "text": [
      "6840\n",
      "Wall time: 35.7 s\n"
     ]
    }
   ],
   "source": [
    "%%time\n",
    "query = \"\"\"\n",
    "MATCH (airport1: Airport {country : 'IE'} ) <- [:HAS_AIRPORT] - (ad1:AirportDay)\n",
    "WITH ad1\n",
    "MATCH (ad1) - [f:FLIGHT] - > (ad2:AirportDay)  - [:HAS_AIRPORT] -> (airport2: Airport {continent : 'EU'} )\n",
    "RETURN f \n",
    "\"\"\"\n",
    "\n",
    "t = list(graph.run(query))\n",
    "print len(t)"
   ]
  },
  {
   "cell_type": "code",
   "execution_count": 14,
   "metadata": {
    "collapsed": false
   },
   "outputs": [
    {
     "name": "stdout",
     "output_type": "stream",
     "text": [
      "0\n",
      "Wall time: 1.74 s\n"
     ]
    }
   ],
   "source": [
    "%%time\n",
    "query = \"\"\"\n",
    "MATCH (airport1: Airport {country : 'IE'} ) <- [:HAS_AIRPORT] - (ad1:AirportDay)\n",
    "WITH ad1,airport1\n",
    "MATCH (ad1) - [f1:FLIGHT] - > (ad2:AirportDay)  - [:HAS_AIRPORT] -> (airport2: Airport {continent : 'EU'} ),\n",
    "(ad2) - [nm:NEXT_MARKET {days: 8}] - (ad3),\n",
    "(ad3) - [f2:FLIGHT] -> (ad4) - [:HAS_AIRPORT] -> (airport1: Airport {country : 'IE'} )\n",
    "RETURN f1,f2\n",
    "\"\"\"\n",
    "\n",
    "t = list(graph.run(query))\n",
    "print len(t)\n"
   ]
  },
  {
   "cell_type": "code",
   "execution_count": 15,
   "metadata": {
    "collapsed": false
   },
   "outputs": [
    {
     "data": {
      "text/html": [
       "<div>\n",
       "<table border=\"1\" class=\"dataframe\">\n",
       "  <thead>\n",
       "    <tr style=\"text-align: right;\">\n",
       "      <th></th>\n",
       "    </tr>\n",
       "  </thead>\n",
       "  <tbody>\n",
       "  </tbody>\n",
       "</table>\n",
       "</div>"
      ],
      "text/plain": [
       "Empty DataFrame\n",
       "Columns: []\n",
       "Index: []"
      ]
     },
     "execution_count": 15,
     "metadata": {},
     "output_type": "execute_result"
    }
   ],
   "source": [
    "import pandas as pd\n",
    "\n",
    "query = \"\"\"\n",
    "MATCH (airport1: Airport {country : 'IE'} ) <- [:HAS_AIRPORT] - (ad1:AirportDay)\n",
    "WITH ad1,airport1\n",
    "MATCH (ad1) - [f1:FLIGHT] - > (ad2:AirportDay)  - [:HAS_AIRPORT] -> (airport2: Airport {country : 'FR'} ),\n",
    "(ad2) - [nm:NEXT_MARKET {days: 12}] - (ad3),\n",
    "(ad3) - [f2:FLIGHT] -> (ad4) - [:HAS_AIRPORT] -> (airport1: Airport {country : 'IE'} )\n",
    "RETURN f1,f2\n",
    "\"\"\"\n",
    "results = list(graph.run(query))\n",
    "df = pd.DataFrame(results)\n",
    "df.head()"
   ]
  },
  {
   "cell_type": "code",
   "execution_count": 16,
   "metadata": {
    "collapsed": false
   },
   "outputs": [
    {
     "name": "stdout",
     "output_type": "stream",
     "text": [
      "5 [5, None]\n",
      "7+ ['7', '>=']\n",
      "9- ['9', '<=']\n",
      "3 7 ['3', '7']\n"
     ]
    }
   ],
   "source": [
    "test =['5','7+','9-','3 7']\n",
    "\n",
    "def date_to_list(date):\n",
    "    try:\n",
    "        d = int(date)\n",
    "        return [d, None]\n",
    "    except:\n",
    "        pass\n",
    "    if '-' in date: return [date.split('-')[0], '<=']\n",
    "    if '+' in date: return [date.split('+')[0], '>=']\n",
    "    \n",
    "    return date.split()\n",
    "    \n",
    "for t in test:\n",
    "    print t, date_to_list(t)"
   ]
  },
  {
   "cell_type": "code",
   "execution_count": 17,
   "metadata": {
    "collapsed": false
   },
   "outputs": [
    {
     "name": "stdout",
     "output_type": "stream",
     "text": [
      "1 2 1\n",
      "1 3 2\n",
      "1 4 3\n",
      "1 5 4\n",
      "1 6 5\n",
      "1 7 6\n",
      "1 8 7\n",
      "1 9 8\n",
      "1 10 9\n",
      "1 11 10\n",
      "1 12 11\n",
      "1 13 12\n",
      "1 14 13\n",
      "1 15 14\n",
      "2 3 1\n",
      "2 4 2\n",
      "2 5 3\n",
      "2 6 4\n",
      "2 7 5\n",
      "2 8 6\n",
      "2 9 7\n",
      "2 10 8\n",
      "2 11 9\n",
      "2 12 10\n",
      "2 13 11\n",
      "2 14 12\n",
      "2 15 13\n",
      "3 4 1\n",
      "3 5 2\n",
      "3 6 3\n",
      "3 7 4\n",
      "3 8 5\n",
      "3 9 6\n",
      "3 10 7\n",
      "3 11 8\n",
      "3 12 9\n",
      "3 13 10\n",
      "3 14 11\n",
      "3 15 12\n",
      "4 5 1\n",
      "4 6 2\n",
      "4 7 3\n",
      "4 8 4\n",
      "4 9 5\n",
      "4 10 6\n",
      "4 11 7\n",
      "4 12 8\n",
      "4 13 9\n",
      "4 14 10\n",
      "4 15 11\n",
      "5 6 1\n",
      "5 7 2\n",
      "5 8 3\n",
      "5 9 4\n",
      "5 10 5\n",
      "5 11 6\n",
      "5 12 7\n",
      "5 13 8\n",
      "5 14 9\n",
      "5 15 10\n",
      "6 7 1\n",
      "6 8 2\n",
      "6 9 3\n",
      "6 10 4\n",
      "6 11 5\n",
      "6 12 6\n",
      "6 13 7\n",
      "6 14 8\n",
      "6 15 9\n",
      "7 8 1\n",
      "7 9 2\n",
      "7 10 3\n",
      "7 11 4\n",
      "7 12 5\n",
      "7 13 6\n",
      "7 14 7\n",
      "7 15 8\n",
      "8 9 1\n",
      "8 10 2\n",
      "8 11 3\n",
      "8 12 4\n",
      "8 13 5\n",
      "8 14 6\n",
      "8 15 7\n",
      "9 10 1\n",
      "9 11 2\n",
      "9 12 3\n",
      "9 13 4\n",
      "9 14 5\n",
      "9 15 6\n",
      "10 11 1\n",
      "10 12 2\n",
      "10 13 3\n",
      "10 14 4\n",
      "10 15 5\n",
      "11 12 1\n",
      "11 13 2\n",
      "11 14 3\n",
      "11 15 4\n",
      "12 13 1\n",
      "12 14 2\n",
      "12 15 3\n",
      "13 14 1\n",
      "13 15 2\n",
      "14 15 1\n"
     ]
    }
   ],
   "source": [
    "for day in days:\n",
    "    number = day['date']\n",
    "\n",
    "    # Connect to other dates for when not flying from same Airport\n",
    "    for second_day in days[number:]:\n",
    "        gap = second_day['date'] - number\n",
    "        if gap < 0:\n",
    "            print number, second_day['date']\n",
    "            raise ValueError(\"Going Wrong Way!\")\n",
    "\n",
    "        print number, second_day['date'], gap"
   ]
  }
 ],
 "metadata": {
  "anaconda-cloud": {},
  "kernelspec": {
   "display_name": "Python [conda root]",
   "language": "python",
   "name": "conda-root-py"
  },
  "language_info": {
   "codemirror_mode": {
    "name": "ipython",
    "version": 3
   },
   "file_extension": ".py",
   "mimetype": "text/x-python",
   "name": "python",
   "nbconvert_exporter": "python",
   "pygments_lexer": "ipython3",
   "version": "3.5.2"
  }
 },
 "nbformat": 4,
 "nbformat_minor": 0
}
