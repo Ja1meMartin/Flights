{
 "cells": [
  {
   "cell_type": "code",
   "execution_count": 51,
   "metadata": {
    "collapsed": true
   },
   "outputs": [],
   "source": [
    "def cypher_statement_start(location, name, date, day):\n",
    "    location = location.lower()\n",
    "    if not location or not name:\n",
    "        raise ValueError(\"Must have a location and a name!\")\n",
    "        \n",
    "    statement = \"\"\"MATCH (airport1: Airport {{ {location} : '{name}' }} ) <- [:HAS_AIRPORT] - (ad1:AirportDay)\n",
    "    \"\"\".format(location=location, name=name)"
   ]
  },
  {
   "cell_type": "code",
   "execution_count": 60,
   "metadata": {
    "collapsed": false
   },
   "outputs": [
    {
     "data": {
      "text/plain": [
       "'b1 = B(\"B1\", A( \\'A1\\' ), A ( \\'A2\\' ))  \\nb2 = B(\"B2\", A( \\'A1\\' ), A ( \\'A2\\' ))\\nprint ( C( \\'C1\\', b1, b2).inorder())'"
      ]
     },
     "execution_count": 60,
     "metadata": {},
     "output_type": "execute_result"
    }
   ],
   "source": [
    "class A(object):\n",
    "    def __init__(self, name, number):\n",
    "        self.name = name\n",
    "        self.number = number\n",
    "        self.location = \"AN AIRPORT\"\n",
    "        \n",
    "        #no = str(stop_number*2)\n",
    "        airport_day = \"(ad\" + str(self.number) + \":AirportDay)\"\n",
    "        airport = \"(:Airport {\" + self.location.lower() +\": '\"+ self.name +\"' })\"\n",
    "        self.statement = airport_day + \"  - [:HAS_AIRPORT] -> \" + airport \n",
    "    \n",
    "    def inorder(self):\n",
    "        print(self.name)\n",
    "        return self.statement +\"\\n\"\n",
    "    \n",
    "class Start(object):\n",
    "    def __init__(self, name):\n",
    "        self.number = 1\n",
    "        self.location = 'City'\n",
    "        self.name = name\n",
    "    \n",
    "    def inorder(self):\n",
    "        match_statement = \"\"\"MATCH (airport1: Airport {{ {location} : '{name}' }} ) <- [:HAS_AIRPORT] - (ad1:AirportDay)\"\"\"\n",
    "        match_statement = match_statement.format(**self.__dict__)\n",
    "        return  match_statement+\"\\n\"\n",
    "    \n",
    "class B(object):\n",
    "    def __init__(self,name,left,right):\n",
    "        self.left = left\n",
    "        self.right = right\n",
    "        self.name = name\n",
    "        \n",
    "    def __str__(self):\n",
    "        return \"\\nMATCH (ad\" + str(self.left.number) + \") - [f\" + str(int(self.right.number/2)) + \":FLIGHT] -> \\n\"\n",
    "    \n",
    "    def inorder(self):\n",
    "        return \"  \".join([self.left.inorder() , self.__str__() , self.right.inorder()])\n",
    "    \n",
    "class C(object):\n",
    "    def __init__(self,name,left,right):\n",
    "        self.left = left\n",
    "        self.right = right\n",
    "        self.name = name\n",
    "        self.duration=47\n",
    "        \n",
    "        self.market1 = \"(ad\" + str(self.left.right.number) + \") \"\n",
    "        self.market2 = \"(ad\" + str(self.right.left.number) + \": AirportDay)\"\n",
    "        \n",
    "    def __str__(self):\n",
    "        return \"MATCH \" + self.market1 + \" - [:NEXT_MARKET {days: \" + str(self.duration) + \"}] -> \" + self.market2\n",
    "    \n",
    "    def inorder(self):\n",
    "        print(self.name)\n",
    "        return \"  \".join([self.left.inorder() , self.__str__() , self.right.inorder()])\n",
    "    \n",
    "\"\"\"b1 = B(\"B1\", A( 'A1' ), A ( 'A2' ))  \n",
    "b2 = B(\"B2\", A( 'A1' ), A ( 'A2' ))\n",
    "print ( C( 'C1', b1, b2).inorder())\"\"\""
   ]
  },
  {
   "cell_type": "code",
   "execution_count": 61,
   "metadata": {
    "collapsed": false
   },
   "outputs": [
    {
     "name": "stdout",
     "output_type": "stream",
     "text": [
      "{'location': 'City', 'number': 1, 'name': 'Liverpool'}\n",
      "C0\n",
      "A2\n",
      "A3\n",
      "A4\n",
      "MATCH (airport1: Airport { City : 'Liverpool' } ) <- [:HAS_AIRPORT] - (ad1:AirportDay)\n",
      "  \n",
      "MATCH (ad1) - [f1:FLIGHT] -> \n",
      "  (ad2:AirportDay)  - [:HAS_AIRPORT] -> (:Airport {an airport: 'A2' })\n",
      "  MATCH (ad2)  - [:NEXT_MARKET {days: 47}] -> (ad3: AirportDay)  (ad3:AirportDay)  - [:HAS_AIRPORT] -> (:Airport {an airport: 'A3' })\n",
      "  \n",
      "MATCH (ad3) - [f2:FLIGHT] -> \n",
      "  (ad4:AirportDay)  - [:HAS_AIRPORT] -> (:Airport {an airport: 'A4' })\n",
      "\n",
      "C1\n",
      "A5\n",
      "A6\n",
      "A7\n",
      "A8\n",
      "(ad5:AirportDay)  - [:HAS_AIRPORT] -> (:Airport {an airport: 'A5' })\n",
      "  \n",
      "MATCH (ad5) - [f3:FLIGHT] -> \n",
      "  (ad6:AirportDay)  - [:HAS_AIRPORT] -> (:Airport {an airport: 'A6' })\n",
      "  MATCH (ad6)  - [:NEXT_MARKET {days: 47}] -> (ad7: AirportDay)  (ad7:AirportDay)  - [:HAS_AIRPORT] -> (:Airport {an airport: 'A7' })\n",
      "  \n",
      "MATCH (ad7) - [f4:FLIGHT] -> \n",
      "  (ad8:AirportDay)  - [:HAS_AIRPORT] -> (:Airport {an airport: 'A8' })\n",
      "\n"
     ]
    }
   ],
   "source": [
    "markets = [Start('Liverpool')] + [A('A'+str(n+1), n+1) for n in range(1,8)]\n",
    "flights = [B('B' + str(n), left, right) for n, (left, right) in enumerate(zip(markets[::2],markets[1::2]))]\n",
    "trips   = [C('C' + str(n), left, right) for n, (left, right) in enumerate(zip(flights[::2],flights[1::2]))]\n",
    "\n",
    "print (Start('Liverpool').__dict__)\n",
    "for t in trips:\n",
    "    print (t.inorder())"
   ]
  }
 ],
 "metadata": {
  "anaconda-cloud": {},
  "kernelspec": {
   "display_name": "Python [conda root]",
   "language": "python",
   "name": "conda-root-py"
  },
  "language_info": {
   "codemirror_mode": {
    "name": "ipython",
    "version": 3
   },
   "file_extension": ".py",
   "mimetype": "text/x-python",
   "name": "python",
   "nbconvert_exporter": "python",
   "pygments_lexer": "ipython3",
   "version": "3.5.2"
  }
 },
 "nbformat": 4,
 "nbformat_minor": 1
}
