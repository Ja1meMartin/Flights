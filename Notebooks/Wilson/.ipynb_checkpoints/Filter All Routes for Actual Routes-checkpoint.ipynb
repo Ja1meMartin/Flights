{
 "cells": [
  {
   "cell_type": "code",
   "execution_count": 1,
   "metadata": {
    "collapsed": true
   },
   "outputs": [],
   "source": [
    "from airport_names import get_all_routes\n",
    "from collections import deque\n",
    "routes = deque(get_all_routes())"
   ]
  },
  {
   "cell_type": "code",
   "execution_count": 2,
   "metadata": {
    "collapsed": false
   },
   "outputs": [],
   "source": [
    "api = 'ja373863706848344628128972526671'\n",
    "from skyscanner.skyscanner import FlightsCache\n",
    "flights_cache_service = FlightsCache(api)"
   ]
  },
  {
   "cell_type": "code",
   "execution_count": 5,
   "metadata": {
    "collapsed": false
   },
   "outputs": [
    {
     "name": "stdout",
     "output_type": "stream",
     "text": [
      "0 ODS MST 0\n",
      "{}\n",
      "1 ODS FAO 0\n",
      "{}\n",
      "2 ODS PSA 1\n",
      "{53: 267.0}\n",
      "3 ODS ROV 0\n",
      "{}\n",
      "4 ODS BLQ 0\n",
      "{}\n",
      "5 KTW MST 8\n",
      "{34: 900.0, 36: 25.0, 38: 921.0, 40: 1506.0, 57: 10.0, 58: 1573.0, 43: 20.0, 50: 10.0}\n",
      "6 KTW FAO 2\n",
      "{34: 158.0, 35: 201.0}\n",
      "7 KTW PSA 2\n",
      "{34: 243.0, 53: 712.0}\n",
      "8 KTW ROV 0\n",
      "{}\n",
      "9 KTW BLQ 15\n",
      "{32: 50.0, 35: 366.0, 36: 407.0, 37: 266.0, 39: 50.0, 42: 284.0, 43: 407.0, 45: 292.0, 46: 20.0, 52: 278.0, 53: 10.0, 54: 413.0, 60: 10.0, 61: 182.0, 31: 366.0}\n",
      "10 KTW ODS 0\n",
      "{}\n",
      "11 SXF MST 0\n",
      "{}\n",
      "12 SXF FAO 22\n",
      "{31: 250.0, 32: 316.0, 33: 314.0, 34: 227.0, 35: 143.0, 36: 120.0, 38: 134.0, 39: 109.0, 40: 100.0, 45: 131.0, 46: 112.0, 47: 100.0, 49: 110.0, 50: 115.0, 52: 131.0, 53: 100.0, 55: 114.0, 56: 114.0, 57: 110.0, 59: 131.0, 60: 111.0, 61: 106.0}\n",
      "13 SXF PSA 11\n",
      "{50: 45.0, 33: 356.0, 34: 67.0, 35: 142.0, 37: 131.0, 49: 89.0, 41: 108.0, 57: 45.0, 59: 137.0, 45: 137.0, 31: 249.0}\n",
      "14 SXF ROV 0\n",
      "{}\n",
      "15 SXF BLQ 25\n",
      "{31: 255.0, 32: 255.0, 33: 316.0, 34: 201.0, 35: 170.0, 36: 211.0, 38: 158.0, 40: 513.0, 41: 108.0, 42: 108.0, 43: 513.0, 44: 125.0, 45: 141.0, 46: 155.0, 47: 513.0, 48: 103.0, 49: 138.0, 50: 513.0, 51: 185.0, 52: 131.0, 53: 183.0, 54: 512.0, 56: 108.0, 59: 137.0, 60: 156.0}\n",
      "16 SXF ODS 1\n",
      "{31: 190.0}\n",
      "17 SXF KTW 0\n",
      "{}\n",
      "18 BOJ MST 0\n",
      "{}\n",
      "19 BOJ FAO 0\n",
      "{}\n",
      "20 BOJ PSA 0\n",
      "{}\n",
      "21 BOJ ROV 4\n",
      "{41: 177.0, 43: 149.0, 46: 149.0, 39: 204.0}\n",
      "22 BOJ BLQ 0\n",
      "{}\n",
      "23 BOJ ODS 0\n",
      "{}\n",
      "24 BOJ KTW 0\n",
      "{}\n",
      "25 BOJ SXF 1\n",
      "{40: 475.0}\n",
      "26 HEL MST 0\n",
      "{}\n",
      "27 HEL FAO 12\n",
      "{32: 410.0, 33: 290.0, 34: 226.0, 35: 209.0, 36: 147.0, 37: 171.0, 38: 133.0, 39: 175.0, 41: 134.0, 45: 107.0, 52: 147.0, 31: 269.0}\n",
      "28 HEL PSA 2\n",
      "{36: 151.0, 38: 149.0}\n",
      "29 HEL ROV 0\n",
      "{}\n",
      "30 HEL BLQ 4\n",
      "{32: 547.0, 40: 209.0, 42: 134.0, 41: 109.0}\n",
      "31 HEL ODS 0\n",
      "{}\n",
      "32 HEL KTW 5\n",
      "{49: 430.0, 50: 430.0, 35: 430.0, 36: 430.0, 51: 430.0}\n",
      "33 HEL SXF 28\n",
      "{31: 132.0, 32: 265.0, 33: 184.0, 34: 130.0, 35: 126.0, 36: 112.0, 37: 452.0, 38: 111.0, 39: 80.0, 40: 121.0, 41: 69.0, 42: 106.0, 43: 77.0, 45: 78.0, 46: 81.0, 47: 106.0, 48: 70.0, 49: 119.0, 50: 74.0, 52: 78.0, 53: 70.0, 54: 75.0, 55: 81.0, 56: 118.0, 57: 78.0, 59: 84.0, 60: 70.0, 61: 95.0}\n",
      "34 HEL BOJ 0\n",
      "{}\n",
      "35 CWL MST 0\n",
      "{}\n",
      "36 CWL FAO 19\n",
      "{32: 363.0, 33: 52.0, 35: 63.0, 36: 206.0, 37: 184.0, 38: 54.0, 40: 51.0, 42: 51.0, 45: 51.0, 47: 52.0, 49: 42.0, 52: 51.0, 54: 51.0, 56: 42.0, 57: 181.0, 58: 181.0, 59: 42.0, 61: 54.0, 31: 52.0}\n",
      "37 CWL PSA 2\n",
      "{32: 405.0, 39: 341.0}\n",
      "38 CWL ROV 0\n",
      "{}\n",
      "39 CWL BLQ 3\n",
      "{40: 334.0, 57: 242.0, 34: 331.0}\n",
      "40 CWL ODS 0\n",
      "{}\n",
      "41 CWL KTW 2\n",
      "{32: 532.0, 33: 532.0}\n",
      "42 CWL SXF 0\n",
      "{}\n",
      "43 CWL BOJ 0\n",
      "{}\n",
      "44 CWL HEL 1\n",
      "{38: 396.0}\n",
      "45 BRI MST 0\n",
      "{}\n",
      "46 BRI FAO 0\n",
      "{}\n",
      "47 BRI PSA 18\n",
      "{33: 113.0, 35: 113.0, 37: 113.0, 38: 113.0, 40: 113.0, 42: 113.0, 43: 113.0, 46: 113.0, 47: 113.0, 48: 113.0, 50: 113.0, 51: 113.0, 52: 113.0, 53: 113.0, 56: 113.0, 57: 113.0, 59: 113.0, 31: 113.0}\n",
      "48 BRI ROV 0\n",
      "{}\n",
      "49 BRI BLQ 14\n",
      "{34: 120.0, 38: 122.0, 39: 120.0, 40: 120.0, 42: 120.0, 45: 120.0, 47: 120.0, 49: 120.0, 51: 120.0, 54: 120.0, 55: 120.0, 56: 120.0, 57: 120.0, 58: 121.0}\n",
      "TIME ELAPSED 15.388246\n"
     ]
    }
   ],
   "source": [
    "import datetime\n",
    "import flights\n",
    "dt_started = datetime.datetime.utcnow()\n",
    "\n",
    "# do some stuff\n",
    "partial = '2017-01'\n",
    "\n",
    "for i in range(50):\n",
    "    out, dest = routes.pop()\n",
    "    grid = flights.get_grid_flights(flights_cache_service, out, dest, partial)\n",
    "    print(i, out, dest, len(grid))\n",
    "    print(grid)\n",
    "\n",
    "dt_ended = datetime.datetime.utcnow()\n",
    "print(\"TIME ELAPSED\", (dt_ended - dt_started).total_seconds())"
   ]
  }
 ],
 "metadata": {
  "kernelspec": {
   "display_name": "Python [conda root]",
   "language": "python",
   "name": "conda-root-py"
  },
  "language_info": {
   "codemirror_mode": {
    "name": "ipython",
    "version": 3
   },
   "file_extension": ".py",
   "mimetype": "text/x-python",
   "name": "python",
   "nbconvert_exporter": "python",
   "pygments_lexer": "ipython3",
   "version": "3.5.2"
  }
 },
 "nbformat": 4,
 "nbformat_minor": 1
}
