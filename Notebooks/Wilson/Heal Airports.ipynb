{
 "cells": [
  {
   "cell_type": "code",
   "execution_count": 1,
   "metadata": {
    "collapsed": true
   },
   "outputs": [],
   "source": [
    "from datetime import date\n",
    "\n",
    "import flights\n",
    "from flights import get_system_days\n",
    "import queue\n",
    "import threading\n",
    "\n",
    "from multiprocessing import Pool\n",
    "pool = Pool(processes=2)"
   ]
  },
  {
   "cell_type": "code",
   "execution_count": 5,
   "metadata": {
    "collapsed": false
   },
   "outputs": [
    {
     "name": "stdout",
     "output_type": "stream",
     "text": [
      "161\n"
     ]
    }
   ],
   "source": [
    "print(len(airport_names))"
   ]
  },
  {
   "cell_type": "code",
   "execution_count": 6,
   "metadata": {
    "collapsed": false
   },
   "outputs": [
    {
     "name": "stdout",
     "output_type": "stream",
     "text": [
      "connected\n"
     ]
    }
   ],
   "source": [
    "from py2neo import authenticate, Graph, Relationship\n",
    "graph = Graph(\"http://localhost:7474/db/data/\")\n",
    "print (\"connected\")\n",
    "from py2neo import Node, Relationship"
   ]
  },
  {
   "cell_type": "code",
   "execution_count": 16,
   "metadata": {
    "collapsed": false
   },
   "outputs": [
    {
     "name": "stdout",
     "output_type": "stream",
     "text": [
      "Help on Schema in module py2neo.database object:\n",
      "\n",
      "class Schema(builtins.object)\n",
      " |  The schema resource attached to a `Graph` instance.\n",
      " |  \n",
      " |  Methods defined here:\n",
      " |  \n",
      " |  __init__(self, uri)\n",
      " |      Initialize self.  See help(type(self)) for accurate signature.\n",
      " |  \n",
      " |  create_index(self, label, property_key)\n",
      " |      Create a schema index for a label and property\n",
      " |      key combination.\n",
      " |  \n",
      " |  create_uniqueness_constraint(self, label, property_key)\n",
      " |      Create a uniqueness constraint for a label.\n",
      " |  \n",
      " |  drop_index(self, label, property_key)\n",
      " |      Remove label index for a given property key.\n",
      " |  \n",
      " |  drop_uniqueness_constraint(self, label, property_key)\n",
      " |      Remove the uniqueness constraint for a given property key.\n",
      " |  \n",
      " |  get_indexes(self, label)\n",
      " |      Fetch a list of indexed property keys for a label.\n",
      " |  \n",
      " |  get_uniqueness_constraints(self, label)\n",
      " |      Fetch a list of unique constraints for a label.\n",
      " |  \n",
      " |  ----------------------------------------------------------------------\n",
      " |  Data descriptors defined here:\n",
      " |  \n",
      " |  __dict__\n",
      " |      dictionary for instance variables (if defined)\n",
      " |  \n",
      " |  __weakref__\n",
      " |      list of weak references to the object (if defined)\n",
      "\n"
     ]
    }
   ],
   "source": [
    "help(graph.schema) #.get_indexes(\"Airport\")"
   ]
  },
  {
   "cell_type": "code",
   "execution_count": 51,
   "metadata": {
    "collapsed": false
   },
   "outputs": [
    {
     "data": {
      "text/plain": [
       "'iata'"
      ]
     },
     "execution_count": 51,
     "metadata": {},
     "output_type": "execute_result"
    }
   ],
   "source": [
    "graph.schema.get_indexes(\"Airport\")[0]\n"
   ]
  },
  {
   "cell_type": "code",
   "execution_count": 45,
   "metadata": {
    "collapsed": true
   },
   "outputs": [],
   "source": [
    "def create(graph, thing):\n",
    "    t = threading.Thread(target=lambda x,y: x.merge(y), args=(graph,thing))\n",
    "    t.setDaemon(True)\n",
    "    t.start()"
   ]
  },
  {
   "cell_type": "code",
   "execution_count": 29,
   "metadata": {
    "collapsed": true
   },
   "outputs": [],
   "source": [
    "regions, countries, continents, cities = set(), set(), set(), set()\n",
    "\n",
    "for row in AIRPORTS:\n",
    "    regions.add(row[9])\n",
    "    countries.add(row[8])\n",
    "    continents.add(row[7])\n",
    "    cities.add(row[10])"
   ]
  },
  {
   "cell_type": "code",
   "execution_count": 34,
   "metadata": {
    "collapsed": true
   },
   "outputs": [],
   "source": [
    "# http://www.madhur.co.in/blog/2015/11/02/countdownlatch-python.html    \n",
    "class CountDownLatch(object):\n",
    "    def __init__(self, count=1):\n",
    "        self.count = count\n",
    "        self.lock = threading.Condition()\n",
    "\n",
    "    def countdown(self):\n",
    "        self.lock.acquire()\n",
    "        self.count -= 1\n",
    "        if self.count <= 0:\n",
    "            self.lock.notifyAll()\n",
    "        self.lock.release()\n",
    "\n",
    "    def wait(self):\n",
    "        self.lock.acquire()\n",
    "        while self.count > 0:\n",
    "            self.lock.wait()\n",
    "        self.lock.release()"
   ]
  },
  {
   "cell_type": "code",
   "execution_count": 46,
   "metadata": {
    "collapsed": false
   },
   "outputs": [
    {
     "name": "stdout",
     "output_type": "stream",
     "text": [
      "Regions, HR-21\n",
      "Regions, RU-SPE\n",
      "Regions, DE-NW\n",
      "Regions, SE-AB\n",
      "Regions, GI-U-A\n",
      "Regions, IT-45\n",
      "Regions, RU-BA\n",
      "Regions, GB-SCT\n",
      "Regions, IT-21\n",
      "Regions, UA-32\n",
      "Regions, ES-V\n",
      "Regions, DE-HE\n",
      "Regions, SE-BD\n",
      "Regions, NO-11\n",
      "Regions, FR-B\n",
      "Regions, DE-BW\n",
      "Regions, DE-SN\n",
      "Regions, DK-83\n",
      "Regions, LU-L\n",
      "Regions, BG-23\n",
      "Regions, ME-16\n",
      "Regions, FR-A\n",
      "Regions, RU-CE\n",
      "Regions, CH-ZH\n",
      "Regions, GB-WLS\n",
      "Regions, IE-D\n",
      "Regions, IT-88\n",
      "Regions, RU-KDA\n",
      "Regions, IS-2\n",
      "Regions, BG-03\n",
      "Regions, DE-BY\n",
      "Regions, LT-VL\n",
      "Regions, BE-WLG\n",
      "Regions, UA-14\n",
      "Regions, LV-RIX\n",
      "Regions, IT-42\n",
      "Regions, HU-PE\n",
      "Regions, SE-Q\n",
      "Regions, PT-08\n",
      "Regions, RS-00\n",
      "Regions, IT-25\n",
      "Regions, IT-75\n",
      "Regions, MT-25\n",
      "Regions, NO-02\n",
      "Regions, CH-GE\n",
      "Regions, BG-02\n",
      "Regions, GB-ENG\n",
      "Regions, IT-34\n",
      "Regions, RU-TA\n",
      "Regions, IT-52\n",
      "Regions, GR-54\n",
      "Regions, DE-HH\n",
      "Regions, NL-NB\n",
      "Regions, SK-BL\n",
      "Regions, RU-SAM\n",
      "Regions, IE-CE\n",
      "Regions, NL-NH\n",
      "Regions, RO-B\n",
      "Regions, IE-C\n",
      "Regions, BY-MI\n",
      "Regions, DE-HB\n",
      "Regions, ES-M\n",
      "Regions, NL-LI\n",
      "Regions, FR-J\n",
      "Regions, BA-BIH\n",
      "Regions, DK-81\n",
      "Regions, IT-62\n",
      "Regions, SI-061\n",
      "Regions, IT-72\n",
      "Regions, UA-43\n",
      "Regions, PT-11\n",
      "Regions, DE-BE\n",
      "Regions, PT-13\n",
      "Regions, BE-BRU\n",
      "Regions, ES-CN\n",
      "Regions, PL-SL\n",
      "Regions, NO-17\n",
      "Regions, NO-19\n",
      "Regions, GR-A1\n",
      "Regions, IT-82\n",
      "Regions, ES-PM\n",
      "Regions, GB-U-A\n",
      "Regions, BE-WHT\n",
      "Regions, EE-37\n",
      "Regions, AL-11\n",
      "Regions, RU-ROS\n",
      "Regions, GB-NIR\n",
      "Regions, PL-PM\n",
      "Regions, UA-63\n",
      "Regions, PT-20\n",
      "Regions, NO-18\n",
      "Regions, DE-NI\n",
      "Regions, NO-12\n",
      "Regions, PL-MA\n",
      "Regions, FR-U\n",
      "Regions, FI-ES\n",
      "Regions, PL-MZ\n",
      "Regions, ES-AN\n",
      "Regions, ES-GA\n",
      "Regions, FR-N\n",
      "Regions, SE-M\n",
      "Regions, PL-WP\n",
      "Regions, RU-MOS\n",
      "Regions, ES-CT\n",
      "Regions, DK-84\n",
      "Regions, CZ-PR\n",
      "Regions, AT-9\n",
      "Regions, XK-01\n",
      "Regions, DE-BR\n",
      "Regions, TR-34\n",
      "Regions, GR-91\n",
      "Regions, UA-51\n",
      "Regions, PL-DS\n",
      "Countries, FR\n",
      "Countries, PL\n",
      "Countries, TR\n",
      "Countries, SE\n",
      "Countries, FI\n",
      "Countries, GI\n",
      "Countries, GB\n",
      "Countries, AL\n",
      "Countries, RU\n",
      "Countries, LU\n",
      "Countries, HU\n",
      "Countries, RS\n",
      "Countries, MT\n",
      "Countries, DE\n",
      "Countries, NL\n",
      "Countries, PT\n",
      "Countries, BA\n",
      "Countries, CH\n",
      "Countries, GR\n",
      "Countries, ME\n",
      "Countries, IS\n",
      "Countries, BY\n",
      "Countries, NO\n",
      "Countries, LT\n",
      "Countries, LV\n",
      "Countries, IT\n",
      "Countries, AT\n",
      "Countries, DK\n",
      "Countries, EE\n",
      "Countries, BG\n",
      "Countries, HR\n",
      "Countries, ES\n",
      "Countries, CZ\n",
      "Countries, BE\n",
      "Countries, SI\n",
      "Countries, UA\n",
      "Countries, SK\n",
      "Countries, RO\n",
      "Countries, IE\n",
      "Countries, XK\n",
      "Continents, EU\n",
      "Cities, Marseille\n",
      "Cities, Amsterdam\n",
      "Cities, Oslo\n",
      "Cities, Tirana\n",
      "Cities, Akrotiri\n",
      "Cities, Leeds\n",
      "Cities, Kharkiv\n",
      "Cities, Dortmund\n",
      "Cities, Reykjavík\n",
      "Cities, Gothenburg\n",
      "Cities, St. Petersburg\n",
      "Cities, Brize Norton\n",
      "Cities, Sofia\n",
      "Cities, Bologna\n",
      "Cities, Ponta Delgada\n",
      "Cities, Budapest\n",
      "Cities, Palermo\n",
      "Cities, Bordeaux/Mérignac\n",
      "Cities, Tallinn\n",
      "Cities, Málaga\n",
      "Cities, Varna\n",
      "Cities, Warsaw\n",
      "Cities, Baden-Baden\n",
      "Cities, Glasgow\n",
      "Cities, Bodø\n",
      "Cities, Southampton\n",
      "Cities, Pisa\n",
      "Cities, Limerick\n",
      "Cities, Pau/Pyrénées (Uzein)\n",
      "Cities, Newcastle\n",
      "Cities, Faro\n",
      "Cities, Bratislava\n",
      "Cities, Rostov-on-Don\n",
      "Cities, Donetsk\n",
      "Cities, Birmingham\n",
      "Cities, Podgorica\n",
      "Cities, Stavanger\n",
      "Cities, Moscow\n",
      "Cities, Dresden\n",
      "Cities, Simferopol\n",
      "Cities, Nottingham\n",
      "Cities, Tromsø\n",
      "Cities, Istanbul\n",
      "Cities, Helsinki\n",
      "Cities, Barcelona\n",
      "Cities, Nice\n",
      "Cities, Verona\n",
      "Cities, Luqa\n",
      "Cities, Hamburg\n",
      "Cities, Agen/La Garenne\n",
      "Cities, Nápoli\n",
      "Cities, Gdańsk\n",
      "Cities, Düsseldorf\n",
      "Cities, Minsk\n",
      "Cities, Castres/Mazamet\n",
      "Cities, Manchester\n",
      "Cities, Edinburgh\n",
      "Cities, Dublin\n",
      "Cities, Vienna\n",
      "Cities, Kazan\n",
      "Cities, Prague\n",
      "Cities, Lajes\n",
      "Cities, Samara\n",
      "Cities, Stuttgart\n",
      "Cities, Catania\n",
      "Cities, Zurich\n",
      "Cities, Santiago de Compostela\n",
      "Cities, Billund\n",
      "Cities, Cologne\n",
      "Cities, Milan\n",
      "Cities, Aalborg\n",
      "Cities, Kraków\n",
      "Cities, Belfast\n",
      "Cities, Leipzig\n",
      "Cities, Odessa\n",
      "Cities, Luxembourg\n",
      "Cities, Toulouse/Blagnac\n",
      "Cities, Ljubljana\n",
      "Cities, Tarbes/Lourdes/Pyrénées\n",
      "Cities, Bremen\n",
      "Cities, Copenhagen\n",
      "Cities, Belgrade\n",
      "Cities, Zhukovsky\n",
      "Cities, Bâle/Mulhouse\n",
      "Cities, Palma De Mallorca\n",
      "Cities, Grozny\n",
      "Cities, Tenerife Island\n",
      "Cities, Vilnius\n",
      "Cities, Gibraltar\n",
      "Cities, Gran Canaria Island\n",
      "Cities, Brussels\n",
      "Cities, Trondheim\n",
      "Cities, Madrid\n",
      "Cities, Ufa\n",
      "Cities, Rodez/Marcillac\n",
      "Cities, Aberdeen\n",
      "Cities, Venice\n",
      "Cities, Torino\n",
      "Cities, Kiev\n",
      "Cities, Sarajevo\n",
      "Cities, Hannover\n",
      "Cities, Cardiff\n",
      "Cities, Norwich\n",
      "Cities, Frankfurt-am-Main\n",
      "Cities, Poznań\n",
      "Cities, Sochi\n",
      "Cities, Zagreb\n",
      "Cities, Luleå\n",
      "Cities, Alicante\n",
      "Cities, Cork\n",
      "Cities, Heraklion\n",
      "Cities, Thessaloniki\n",
      "Cities, Bari\n",
      "Cities, Berlin\n",
      "Cities, Bergerac/Roumanière\n",
      "Cities, Liverpool\n",
      "Cities, Liège\n",
      "Cities, Doncaster\n",
      "Cities, Riga\n",
      "Cities, Cuneo\n",
      "Cities, Bristol\n",
      "Cities, Treviso\n",
      "Cities, Rome\n",
      "Cities, Lisbon\n",
      "Cities, Nuremberg\n",
      "Cities, Burgas\n",
      "Cities, Münster\n",
      "Cities, Maastricht\n",
      "Cities, London\n",
      "Cities, Malmö\n",
      "Cities, Geneva\n",
      "Cities, Bergamo\n",
      "Cities, Cagliari\n",
      "Cities, Katowice\n",
      "Cities, Athens\n",
      "Cities, Prishtina\n",
      "Cities, Exeter\n",
      "Cities, Porto\n",
      "Cities, Eindhoven\n",
      "Cities, Wrocław\n",
      "Cities, Biarritz/Anglet/Bayonne\n",
      "Cities, Genova\n",
      "Cities, Munich\n",
      "Cities, Paris\n",
      "Cities, Stockholm\n",
      "Cities, Roma\n",
      "Cities, Bucharest\n",
      "Cities, Bergen\n",
      "Cities, Bournemouth\n"
     ]
    }
   ],
   "source": []
  },
  {
   "cell_type": "code",
   "execution_count": null,
   "metadata": {
    "collapsed": true
   },
   "outputs": [],
   "source": []
  },
  {
   "cell_type": "code",
   "execution_count": null,
   "metadata": {
    "collapsed": true
   },
   "outputs": [],
   "source": []
  },
  {
   "cell_type": "code",
   "execution_count": 54,
   "metadata": {
    "collapsed": false
   },
   "outputs": [
    {
     "name": "stderr",
     "output_type": "stream",
     "text": [
      "C:\\Program Files\\Anaconda3\\lib\\site-packages\\ipykernel\\__main__.py:2: DeprecationWarning: Graph.find_one is deprecated, use NodeSelector instead\n",
      "  from ipykernel import kernelapp as app\n"
     ]
    }
   ],
   "source": [
    "for region in regions:\n",
    "    x = graph.find_one(\"Regions\", 'regions',region)\n",
    "    \n",
    "    if not x:\n",
    "        print(region)\n",
    "        \n",
    "    "
   ]
  },
  {
   "cell_type": "code",
   "execution_count": 60,
   "metadata": {
    "collapsed": false
   },
   "outputs": [
    {
     "name": "stderr",
     "output_type": "stream",
     "text": [
      "C:\\Program Files\\Anaconda3\\lib\\site-packages\\ipykernel\\__main__.py:2: DeprecationWarning: Graph.find_one is deprecated, use NodeSelector instead\n",
      "  from ipykernel import kernelapp as app\n"
     ]
    }
   ],
   "source": [
    "for city in cities:\n",
    "    x = graph.find_one(\"Cities\", 'cities', city)\n",
    "    \n",
    "    if not x:\n",
    "        print(city)\n",
    "        #new_city = Node(\"Cities\", cities=city)\n",
    "        #create(graph, new_city)"
   ]
  },
  {
   "cell_type": "code",
   "execution_count": 61,
   "metadata": {
    "collapsed": false
   },
   "outputs": [
    {
     "name": "stderr",
     "output_type": "stream",
     "text": [
      "C:\\Program Files\\Anaconda3\\lib\\site-packages\\ipykernel\\__main__.py:2: DeprecationWarning: Graph.find_one is deprecated, use NodeSelector instead\n",
      "  from ipykernel import kernelapp as app\n"
     ]
    }
   ],
   "source": [
    "for country in countries:\n",
    "    x = graph.find_one(\"Countries\", 'countries', country)\n",
    "    \n",
    "    if not x:\n",
    "        print(country)"
   ]
  },
  {
   "cell_type": "code",
   "execution_count": 58,
   "metadata": {
    "collapsed": false
   },
   "outputs": [
    {
     "name": "stderr",
     "output_type": "stream",
     "text": [
      "C:\\Program Files\\Anaconda3\\lib\\site-packages\\ipykernel\\__main__.py:1: DeprecationWarning: Graph.find is deprecated, use NodeSelector instead\n",
      "  if __name__ == '__main__':\n"
     ]
    },
    {
     "name": "stdout",
     "output_type": "stream",
     "text": [
      "(f80e367:Cities {cities:\"Bratislava\"})\n",
      "(a0c9bc9:Cities {cities:\"Hannover\"})\n",
      "(b784cec:Cities {cities:\"Bologna\"})\n",
      "(dd812c0:Cities {cities:\"Bodø\"})\n",
      "(a842bb5:Cities {cities:\"Faro\"})\n",
      "(f298674:Cities {cities:\"Bournemouth\"})\n",
      "(e87324c:Cities {cities:\"Malmö\"})\n",
      "(a70a469:Cities {cities:\"Toulouse/Blagnac\"})\n",
      "(f16029d:Cities {cities:\"Marseille\"})\n",
      "(c0c1690:Cities {cities:\"Cagliari\"})\n",
      "(d7ce6be:Cities {cities:\"Wrocław\"})\n",
      "(d40dbcf:Cities {cities:\"Bergamo\"})\n",
      "(b391bf1:Cities {cities:\"Billund\"})\n",
      "(f7cdca6:Cities {cities:\"Akrotiri\"})\n",
      "(f166ab0:Cities {cities:\"Katowice\"})\n",
      "(f1d0cd9:Cities {cities:\"Düsseldorf\"})\n",
      "(aca3a11:Cities {cities:\"Venice\"})\n",
      "(fa7ba59:Cities {cities:\"Trondheim\"})\n",
      "(efd9673:Cities {cities:\"Cologne\"})\n",
      "(ab1b9ae:Cities {cities:\"Kharkiv\"})\n",
      "(cefee62:Cities {cities:\"Barcelona\"})\n",
      "(c5787cd:Cities {cities:\"Nottingham\"})\n",
      "(e240d32:Cities {cities:\"Pau/Pyrénées (Uzein)\"})\n",
      "(f1f26f5:Cities {cities:\"Istanbul\"})\n",
      "(ece9b0f:Cities {cities:\"Palma De Mallorca\"})\n",
      "(efa24ee:Cities {cities:\"Vienna\"})\n",
      "(b9a392b:Cities {cities:\"Catania\"})\n",
      "(eb505d2:Cities {cities:\"Nice\"})\n",
      "(d70ab7a:Cities {cities:\"Zurich\"})\n",
      "(b9f5e61:Cities {cities:\"Eindhoven\"})\n",
      "(ae6aed2:Cities {cities:\"Sofia\"})\n",
      "(e291235:Cities {cities:\"Luxembourg\"})\n",
      "(f415ecf:Cities {cities:\"Santiago de Compostela\"})\n",
      "(ca1ebcb:Cities {cities:\"Munich\"})\n",
      "(e9805bf:Cities {cities:\"Bergerac/Roumanière\"})\n",
      "(cf91fbb:Cities {cities:\"Málaga\"})\n",
      "(f334a87:Cities {cities:\"Kraków\"})\n",
      "(ae0a0f5:Cities {cities:\"Tallinn\"})\n",
      "(dd0d86e:Cities {cities:\"Odessa\"})\n",
      "(eeec373:Cities {cities:\"Rome\"})\n",
      "(eabbe16:Cities {cities:\"Baden-Baden\"})\n",
      "(db68cd9:Cities {cities:\"Leeds\"})\n",
      "(fc1df77:Cities {cities:\"Aberdeen\"})\n",
      "(c838921:Cities {cities:\"Milan\"})\n",
      "(c908043:Cities {cities:\"Lajes\"})\n",
      "(fe5da85:Cities {cities:\"Amsterdam\"})\n",
      "(e6a6033:Cities {cities:\"Dortmund\"})\n",
      "(d4dc8ba:Cities {cities:\"Bucharest\"})\n",
      "(ccd5971:Cities {cities:\"Samara\"})\n",
      "(af6a785:Cities {cities:\"Rostov-on-Don\"})\n",
      "(f2d1da1:Cities {cities:\"Sochi\"})\n",
      "(b9ea04b:Cities {cities:\"St. Petersburg\"})\n",
      "(d7e39d7:Cities {cities:\"Luleå\"})\n",
      "(cf1f596:Cities {cities:\"Bari\"})\n"
     ]
    }
   ],
   "source": [
    "c = graph.find(\"Cities\")\n",
    "\n",
    "for j in c:\n",
    "    print(j)"
   ]
  },
  {
   "cell_type": "code",
   "execution_count": 65,
   "metadata": {
    "collapsed": false
   },
   "outputs": [
    {
     "name": "stderr",
     "output_type": "stream",
     "text": [
      "C:\\Program Files\\Anaconda3\\lib\\site-packages\\ipykernel\\__main__.py:4: DeprecationWarning: Graph.find_one is deprecated, use NodeSelector instead\n"
     ]
    },
    {
     "name": "stdout",
     "output_type": "stream",
     "text": [
      "142 19\n"
     ]
    }
   ],
   "source": [
    "found = 0\n",
    "nf = 0 \n",
    "for row in AIRPORTS:\n",
    "    x = graph.find_one('Airport', 'iata', row[13])\n",
    "    \n",
    "    if x:\n",
    "        found += 1\n",
    "    else:\n",
    "        nf +=1\n",
    "        \n",
    "print(found,nf)"
   ]
  },
  {
   "cell_type": "code",
   "execution_count": 89,
   "metadata": {
    "collapsed": true
   },
   "outputs": [],
   "source": [
    "def add_airport(graph, airport,region,country, continent, city):\n",
    "    \n",
    "    for item in [region,country, continent, city]:\n",
    "        print(item)\n",
    "        \n",
    "        \n",
    "    tx = graph.begin()\n",
    "    \n",
    "    tx.create(airport)\n",
    "    tx.create(Relationship(airport, \"IN_REGION\", region))\n",
    "    tx.create(Relationship(airport, \"IN_COUNTRY\", country))\n",
    "    tx.create(Relationship(airport, \"IN_CONTINENT\", continent))\n",
    "    tx.create(Relationship(airport, \"IN_CITY\", city))\n",
    "    \n",
    "    tx.commit()"
   ]
  },
  {
   "cell_type": "code",
   "execution_count": 88,
   "metadata": {
    "collapsed": false
   },
   "outputs": [],
   "source": [
    "def create_airport(row):\n",
    "    from py2neo import NodeSelector\n",
    "    \n",
    "    selector = NodeSelector(graph)\n",
    "    \n",
    "    print(row[3])\n",
    "    region_name = row[9]\n",
    "    country_name = row[8]\n",
    "    continent_name = row[7]\n",
    "    city_name = row[10]\n",
    "    iata = row[13]\n",
    "\n",
    "    region = graph.find_one(\"Regions\",  'regions', region_name)\n",
    "    country = graph.find_one(\"Countries\",  'countries', country_name)\n",
    "    continent = graph.find_one(\"Continents\",  'continents', continent_name)\n",
    "    city = graph.find_one(\"Cities\",  'cities', city_name)\n",
    "    \n",
    "    assert all(x is not None for x in [region,country, continent, city]) == True\n",
    "    \n",
    "    \n",
    "    \n",
    "            \n",
    "      \n",
    "    \n",
    "    airport_name = row[3]\n",
    "    airport = Node(\"Airport\", airport=airport_name)\n",
    "    airport['continent'] = continent_name\n",
    "    airport['country'] = country_name\n",
    "    airport['region'] = region_name\n",
    "    airport['city'] = city_name\n",
    "    airport['iata'] = iata\n",
    "    \n",
    "    print(\"Airport Done\", airport_name)\n",
    "    threading.Thread(target= add_airport, args= (graph, airport,region,country, continent, city)).start()"
   ]
  },
  {
   "cell_type": "code",
   "execution_count": 92,
   "metadata": {
    "collapsed": false
   },
   "outputs": [
    {
     "name": "stderr",
     "output_type": "stream",
     "text": [
      "C:\\Program Files\\Anaconda3\\lib\\site-packages\\ipykernel\\__main__.py:2: DeprecationWarning: Graph.find_one is deprecated, use NodeSelector instead\n",
      "  from ipykernel import kernelapp as app\n"
     ]
    }
   ],
   "source": [
    "for row in AIRPORTS:\n",
    "    x = graph.find_one('Airport', 'iata', row[13])\n",
    "    \n",
    "    if not x:\n",
    "        print(row)\n",
    "        #create_airport(row)\n",
    "        "
   ]
  },
  {
   "cell_type": "code",
   "execution_count": 79,
   "metadata": {
    "collapsed": false
   },
   "outputs": [
    {
     "name": "stdout",
     "output_type": "stream",
     "text": [
      "None\n"
     ]
    },
    {
     "name": "stderr",
     "output_type": "stream",
     "text": [
      "C:\\Program Files\\Anaconda3\\lib\\site-packages\\ipykernel\\__main__.py:1: DeprecationWarning: Graph.find_one is deprecated, use NodeSelector instead\n",
      "  if __name__ == '__main__':\n"
     ]
    }
   ],
   "source": [
    "x = graph.find_one('Airport', 'iata', 'BTS')\n",
    "print(x)"
   ]
  }
 ],
 "metadata": {
  "anaconda-cloud": {},
  "kernelspec": {
   "display_name": "Python [conda root]",
   "language": "python",
   "name": "conda-root-py"
  },
  "language_info": {
   "codemirror_mode": {
    "name": "ipython",
    "version": 3
   },
   "file_extension": ".py",
   "mimetype": "text/x-python",
   "name": "python",
   "nbconvert_exporter": "python",
   "pygments_lexer": "ipython3",
   "version": "3.5.2"
  }
 },
 "nbformat": 4,
 "nbformat_minor": 1
}
