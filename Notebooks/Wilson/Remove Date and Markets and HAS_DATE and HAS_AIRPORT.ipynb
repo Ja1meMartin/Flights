{
 "cells": [
  {
   "cell_type": "code",
   "execution_count": 37,
   "metadata": {
    "collapsed": false
   },
   "outputs": [
    {
     "name": "stdout",
     "output_type": "stream",
     "text": [
      "connected\n"
     ]
    }
   ],
   "source": [
    "from py2neo import authenticate, Graph, Relationship\n",
    "graph = Graph(\"http://localhost:7474/db/data/\")\n",
    "print (\"connected\")\n",
    "from py2neo import Node, Relationship"
   ]
  },
  {
   "cell_type": "code",
   "execution_count": 124,
   "metadata": {
    "collapsed": false
   },
   "outputs": [],
   "source": [
    "query = \"\"\"\n",
    "MATCH (d:Date)<-[r:`HAS_DATE`]-(m:Market)-[r2:`HAS_AIRPORT`] -()\n",
    "WHERE d.date = '170115'\n",
    "delete r,r2,d,m\n",
    "\"\"\"\n",
    "cursor = graph.run(query)"
   ]
  },
  {
   "cell_type": "code",
   "execution_count": 125,
   "metadata": {
    "collapsed": false
   },
   "outputs": [],
   "source": [
    "for c in cursor:\n",
    "    print(c)"
   ]
  }
 ],
 "metadata": {
  "anaconda-cloud": {},
  "kernelspec": {
   "display_name": "Python [conda root]",
   "language": "python",
   "name": "conda-root-py"
  },
  "language_info": {
   "codemirror_mode": {
    "name": "ipython",
    "version": 3
   },
   "file_extension": ".py",
   "mimetype": "text/x-python",
   "name": "python",
   "nbconvert_exporter": "python",
   "pygments_lexer": "ipython3",
   "version": "3.5.2"
  }
 },
 "nbformat": 4,
 "nbformat_minor": 1
}
